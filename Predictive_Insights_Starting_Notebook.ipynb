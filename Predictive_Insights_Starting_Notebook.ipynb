{
  "cells": [
    {
      "cell_type": "markdown",
      "metadata": {
        "id": "EebowCELhaAe"
      },
      "source": [
        "# Introduction\n",
        "\n",
        "This is a step by step approach to the Predictive Insights competition.\n",
        "\n",
        "Youth unemployment and under-employment is a major concern for any developing country, and serves as an important predictor of economic health and prosperity. Being able to predict, and understand,  which young people will find employment and which ones will require additional help,  helps promote evidence-based decision-making, supports economic empowerment, and allows young people to thrive in their chosen careers.\n",
        "\n",
        "The objective of this challenge is to build a machine learning model that predicts youth employment, based on data from labour market surveys in South Africa.\n",
        "\n",
        "This solution will help organisations like Predictive Insights achieve a baseline prediction of young peoples’ employment outcomes, allowing them to design and test interventions to help youth make a transition into the labour market or to improve their earnings."
      ]
    },
    {
      "cell_type": "markdown",
      "metadata": {
        "id": "9kq8DdN5hg0B"
      },
      "source": [
        "# The Data\n",
        "\n",
        "The data for this challenge comes from four rounds of a survey of youth in the South African labour market, conducted at 6-month intervals. The survey contains numerical, categorical and free-form text responses. You will also receive additional demographic information such as age and information about school level and results.\n",
        "\n",
        "Each person in the dataset was surveyed one year prior (the ‘baseline’ data) to the follow-up survey. We are interested in predicting whether a person is employed at the follow-up survey based on their labour market status and other characteristics during the baseline.\n",
        "\n",
        "The training set consists of one row or observation per individual - information collected at baseline plus only the target outcome (whether they were employed or not) one year later. The test set consists of the data collected at baseline without the target outcome.\n",
        "\n",
        "The objective of this challenge is to predict whether a young person will be employed, one year after the baseline survey, based on their demographic characteristics, previous and current labour market experience and education outcomes, and to deliver an easy-to-understand and insightful solution to the data team at Predictive Insights.\n"
      ]
    },
    {
      "cell_type": "markdown",
      "metadata": {
        "id": "0KgP8EY6hl7f"
      },
      "source": [
        "# Exploratory Data Analysis\n",
        "\n",
        "## Load libraries"
      ]
    },
    {
      "cell_type": "code",
      "execution_count": 149,
      "metadata": {
        "id": "1IdR0Fc9PQQa"
      },
      "outputs": [],
      "source": [
        "import pandas as pd\n",
        "import matplotlib.pyplot as plt\n",
        "import seaborn as sns\n",
        "import numpy as np"
      ]
    },
    {
      "cell_type": "markdown",
      "metadata": {
        "id": "Mf7bShHihryN"
      },
      "source": [
        "## Load data"
      ]
    },
    {
      "cell_type": "code",
      "execution_count": 150,
      "metadata": {
        "colab": {
          "base_uri": "https://localhost:8080/",
          "height": 421
        },
        "id": "J6QcALw2PgjU",
        "outputId": "4c18a206-3d9d-411e-f44a-609bb72e326b"
      },
      "outputs": [
        {
          "data": {
            "text/html": [
              "<div>\n",
              "<style scoped>\n",
              "    .dataframe tbody tr th:only-of-type {\n",
              "        vertical-align: middle;\n",
              "    }\n",
              "\n",
              "    .dataframe tbody tr th {\n",
              "        vertical-align: top;\n",
              "    }\n",
              "\n",
              "    .dataframe thead th {\n",
              "        text-align: right;\n",
              "    }\n",
              "</style>\n",
              "<table border=\"1\" class=\"dataframe\">\n",
              "  <thead>\n",
              "    <tr style=\"text-align: right;\">\n",
              "      <th></th>\n",
              "      <th>Person_id</th>\n",
              "      <th>Survey_date</th>\n",
              "      <th>Round</th>\n",
              "      <th>Status</th>\n",
              "      <th>Tenure</th>\n",
              "      <th>Geography</th>\n",
              "      <th>Province</th>\n",
              "      <th>Matric</th>\n",
              "      <th>Degree</th>\n",
              "      <th>Diploma</th>\n",
              "      <th>...</th>\n",
              "      <th>Math</th>\n",
              "      <th>Mathlit</th>\n",
              "      <th>Additional_lang</th>\n",
              "      <th>Home_lang</th>\n",
              "      <th>Science</th>\n",
              "      <th>Female</th>\n",
              "      <th>Sa_citizen</th>\n",
              "      <th>Birthyear</th>\n",
              "      <th>Birthmonth</th>\n",
              "      <th>Target</th>\n",
              "    </tr>\n",
              "  </thead>\n",
              "  <tbody>\n",
              "    <tr>\n",
              "      <th>0</th>\n",
              "      <td>Id_eqz61wz7yn</td>\n",
              "      <td>2022-02-23</td>\n",
              "      <td>2</td>\n",
              "      <td>studying</td>\n",
              "      <td>NaN</td>\n",
              "      <td>Rural</td>\n",
              "      <td>Mpumalanga</td>\n",
              "      <td>1.0</td>\n",
              "      <td>0.0</td>\n",
              "      <td>0.0</td>\n",
              "      <td>...</td>\n",
              "      <td>0 - 29 %</td>\n",
              "      <td>NaN</td>\n",
              "      <td>50 - 59 %</td>\n",
              "      <td>NaN</td>\n",
              "      <td>0 - 29 %</td>\n",
              "      <td>1</td>\n",
              "      <td>1</td>\n",
              "      <td>2000</td>\n",
              "      <td>5</td>\n",
              "      <td>0</td>\n",
              "    </tr>\n",
              "    <tr>\n",
              "      <th>1</th>\n",
              "      <td>Id_kj5k3g5wud</td>\n",
              "      <td>2023-02-06</td>\n",
              "      <td>4</td>\n",
              "      <td>unemployed</td>\n",
              "      <td>427.0</td>\n",
              "      <td>Suburb</td>\n",
              "      <td>North West</td>\n",
              "      <td>1.0</td>\n",
              "      <td>0.0</td>\n",
              "      <td>0.0</td>\n",
              "      <td>...</td>\n",
              "      <td>30 - 39 %</td>\n",
              "      <td>NaN</td>\n",
              "      <td>40 - 49 %</td>\n",
              "      <td>NaN</td>\n",
              "      <td>30 - 39 %</td>\n",
              "      <td>1</td>\n",
              "      <td>1</td>\n",
              "      <td>1989</td>\n",
              "      <td>4</td>\n",
              "      <td>1</td>\n",
              "    </tr>\n",
              "    <tr>\n",
              "      <th>2</th>\n",
              "      <td>Id_9h0isj38y4</td>\n",
              "      <td>2022-08-08</td>\n",
              "      <td>3</td>\n",
              "      <td>other</td>\n",
              "      <td>NaN</td>\n",
              "      <td>Urban</td>\n",
              "      <td>Free State</td>\n",
              "      <td>1.0</td>\n",
              "      <td>0.0</td>\n",
              "      <td>0.0</td>\n",
              "      <td>...</td>\n",
              "      <td>30 - 39 %</td>\n",
              "      <td>NaN</td>\n",
              "      <td>40 - 49 %</td>\n",
              "      <td>NaN</td>\n",
              "      <td>30 - 39 %</td>\n",
              "      <td>0</td>\n",
              "      <td>1</td>\n",
              "      <td>1996</td>\n",
              "      <td>7</td>\n",
              "      <td>1</td>\n",
              "    </tr>\n",
              "    <tr>\n",
              "      <th>3</th>\n",
              "      <td>Id_5ch3zwpdef</td>\n",
              "      <td>2022-03-16</td>\n",
              "      <td>2</td>\n",
              "      <td>unemployed</td>\n",
              "      <td>810.0</td>\n",
              "      <td>Urban</td>\n",
              "      <td>Eastern Cape</td>\n",
              "      <td>NaN</td>\n",
              "      <td>NaN</td>\n",
              "      <td>NaN</td>\n",
              "      <td>...</td>\n",
              "      <td>NaN</td>\n",
              "      <td>NaN</td>\n",
              "      <td>NaN</td>\n",
              "      <td>NaN</td>\n",
              "      <td>NaN</td>\n",
              "      <td>0</td>\n",
              "      <td>1</td>\n",
              "      <td>2000</td>\n",
              "      <td>1</td>\n",
              "      <td>0</td>\n",
              "    </tr>\n",
              "    <tr>\n",
              "      <th>4</th>\n",
              "      <td>Id_g4elxibjej</td>\n",
              "      <td>2023-03-22</td>\n",
              "      <td>4</td>\n",
              "      <td>studying</td>\n",
              "      <td>NaN</td>\n",
              "      <td>Urban</td>\n",
              "      <td>Limpopo</td>\n",
              "      <td>NaN</td>\n",
              "      <td>NaN</td>\n",
              "      <td>NaN</td>\n",
              "      <td>...</td>\n",
              "      <td>NaN</td>\n",
              "      <td>NaN</td>\n",
              "      <td>NaN</td>\n",
              "      <td>NaN</td>\n",
              "      <td>NaN</td>\n",
              "      <td>1</td>\n",
              "      <td>1</td>\n",
              "      <td>1998</td>\n",
              "      <td>12</td>\n",
              "      <td>0</td>\n",
              "    </tr>\n",
              "  </tbody>\n",
              "</table>\n",
              "<p>5 rows × 21 columns</p>\n",
              "</div>"
            ],
            "text/plain": [
              "       Person_id Survey_date  Round      Status  Tenure Geography  \\\n",
              "0  Id_eqz61wz7yn  2022-02-23      2    studying     NaN     Rural   \n",
              "1  Id_kj5k3g5wud  2023-02-06      4  unemployed   427.0    Suburb   \n",
              "2  Id_9h0isj38y4  2022-08-08      3       other     NaN     Urban   \n",
              "3  Id_5ch3zwpdef  2022-03-16      2  unemployed   810.0     Urban   \n",
              "4  Id_g4elxibjej  2023-03-22      4    studying     NaN     Urban   \n",
              "\n",
              "       Province  Matric  Degree  Diploma  ...       Math Mathlit  \\\n",
              "0    Mpumalanga     1.0     0.0      0.0  ...   0 - 29 %     NaN   \n",
              "1    North West     1.0     0.0      0.0  ...  30 - 39 %     NaN   \n",
              "2    Free State     1.0     0.0      0.0  ...  30 - 39 %     NaN   \n",
              "3  Eastern Cape     NaN     NaN      NaN  ...        NaN     NaN   \n",
              "4       Limpopo     NaN     NaN      NaN  ...        NaN     NaN   \n",
              "\n",
              "  Additional_lang Home_lang    Science Female  Sa_citizen  Birthyear  \\\n",
              "0       50 - 59 %       NaN   0 - 29 %      1           1       2000   \n",
              "1       40 - 49 %       NaN  30 - 39 %      1           1       1989   \n",
              "2       40 - 49 %       NaN  30 - 39 %      0           1       1996   \n",
              "3             NaN       NaN        NaN      0           1       2000   \n",
              "4             NaN       NaN        NaN      1           1       1998   \n",
              "\n",
              "   Birthmonth  Target  \n",
              "0           5       0  \n",
              "1           4       1  \n",
              "2           7       1  \n",
              "3           1       0  \n",
              "4          12       0  \n",
              "\n",
              "[5 rows x 21 columns]"
            ]
          },
          "execution_count": 150,
          "metadata": {},
          "output_type": "execute_result"
        }
      ],
      "source": [
        "df_train = pd.read_csv(\"Train.csv\")\n",
        "df_test = pd.read_csv(\"Test.csv\")\n",
        "\n",
        "df_train.head()"
      ]
    },
    {
      "cell_type": "markdown",
      "metadata": {
        "id": "LUwaMfhOh1_C"
      },
      "source": [
        "## Univariate Analysis\n",
        "\n",
        "Let's have a look at some of the variables."
      ]
    },
    {
      "cell_type": "markdown",
      "metadata": {},
      "source": [
        "Status"
      ]
    },
    {
      "cell_type": "code",
      "execution_count": 151,
      "metadata": {},
      "outputs": [
        {
          "name": "stdout",
          "output_type": "stream",
          "text": [
            "0\n"
          ]
        },
        {
          "data": {
            "text/plain": [
              "unemployed                1775\n",
              "studying                   966\n",
              "wage employed              763\n",
              "other                      278\n",
              "self employed              200\n",
              "employment programme        31\n",
              "wage and self employed       7\n",
              "Name: Status, dtype: int64"
            ]
          },
          "execution_count": 151,
          "metadata": {},
          "output_type": "execute_result"
        }
      ],
      "source": [
        "print(df_train[\"Status\"].isnull().sum())\n",
        "df_train[\"Status\"].value_counts()\n"
      ]
    },
    {
      "cell_type": "markdown",
      "metadata": {},
      "source": [
        "Tenure"
      ]
    },
    {
      "cell_type": "code",
      "execution_count": 152,
      "metadata": {},
      "outputs": [
        {
          "name": "stdout",
          "output_type": "stream",
          "text": [
            "1394\n"
          ]
        },
        {
          "data": {
            "text/plain": [
              "0.0       133\n",
              "36.0      101\n",
              "64.0       64\n",
              "5.0        55\n",
              "273.0      47\n",
              "         ... \n",
              "494.0       1\n",
              "77.0        1\n",
              "294.0       1\n",
              "179.0       1\n",
              "1159.0      1\n",
              "Name: Tenure, Length: 641, dtype: int64"
            ]
          },
          "execution_count": 152,
          "metadata": {},
          "output_type": "execute_result"
        }
      ],
      "source": [
        "print(df_train[\"Tenure\"].isnull().sum())\n",
        "df_train[\"Tenure\"].value_counts()"
      ]
    },
    {
      "cell_type": "markdown",
      "metadata": {},
      "source": [
        "Matric"
      ]
    },
    {
      "cell_type": "code",
      "execution_count": 153,
      "metadata": {},
      "outputs": [
        {
          "name": "stdout",
          "output_type": "stream",
          "text": [
            "1008\n"
          ]
        },
        {
          "data": {
            "text/plain": [
              "1.0    2562\n",
              "0.0     450\n",
              "Name: Matric, dtype: int64"
            ]
          },
          "execution_count": 153,
          "metadata": {},
          "output_type": "execute_result"
        }
      ],
      "source": [
        "print(df_train[\"Matric\"].isnull().sum())\n",
        "df_train[\"Matric\"].value_counts()"
      ]
    },
    {
      "cell_type": "markdown",
      "metadata": {},
      "source": [
        "Degree"
      ]
    },
    {
      "cell_type": "code",
      "execution_count": 154,
      "metadata": {},
      "outputs": [
        {
          "name": "stdout",
          "output_type": "stream",
          "text": [
            "1831\n"
          ]
        },
        {
          "data": {
            "text/plain": [
              "0.0    2018\n",
              "1.0     171\n",
              "Name: Degree, dtype: int64"
            ]
          },
          "execution_count": 154,
          "metadata": {},
          "output_type": "execute_result"
        }
      ],
      "source": [
        "print(df_train[\"Degree\"].isnull().sum())\n",
        "df_train[\"Degree\"].value_counts()"
      ]
    },
    {
      "cell_type": "markdown",
      "metadata": {},
      "source": [
        "Diploma"
      ]
    },
    {
      "cell_type": "code",
      "execution_count": 155,
      "metadata": {},
      "outputs": [
        {
          "name": "stdout",
          "output_type": "stream",
          "text": [
            "1809\n"
          ]
        },
        {
          "data": {
            "text/plain": [
              "0.0    2031\n",
              "1.0     180\n",
              "Name: Diploma, dtype: int64"
            ]
          },
          "execution_count": 155,
          "metadata": {},
          "output_type": "execute_result"
        }
      ],
      "source": [
        "print(df_train[\"Diploma\"].isnull().sum())\n",
        "df_train[\"Diploma\"].value_counts()"
      ]
    },
    {
      "cell_type": "markdown",
      "metadata": {},
      "source": [
        "Schoolquintile"
      ]
    },
    {
      "cell_type": "code",
      "execution_count": 156,
      "metadata": {},
      "outputs": [
        {
          "name": "stdout",
          "output_type": "stream",
          "text": [
            "1661\n"
          ]
        },
        {
          "data": {
            "text/plain": [
              "3.0    739\n",
              "2.0    504\n",
              "1.0    445\n",
              "4.0    329\n",
              "5.0    275\n",
              "0.0     67\n",
              "Name: Schoolquintile, dtype: int64"
            ]
          },
          "execution_count": 156,
          "metadata": {},
          "output_type": "execute_result"
        }
      ],
      "source": [
        "print(df_train[\"Schoolquintile\"].isnull().sum())\n",
        "df_train[\"Schoolquintile\"].value_counts()"
      ]
    },
    {
      "cell_type": "markdown",
      "metadata": {},
      "source": [
        "Education system in South African which categorizes schools into five quintiles based on their socio-economic conditions. Quintile 1 (Q1), followed by Q2 schools are the poorest and receive the highest government funding, while Q4 and Q5(fee paying schools) schools are the least economically challenged and receive the lowest funding."
      ]
    },
    {
      "cell_type": "markdown",
      "metadata": {},
      "source": [
        "Round"
      ]
    },
    {
      "cell_type": "code",
      "execution_count": 157,
      "metadata": {},
      "outputs": [
        {
          "name": "stdout",
          "output_type": "stream",
          "text": [
            "0\n"
          ]
        },
        {
          "data": {
            "text/plain": [
              "4    1977\n",
              "2     975\n",
              "3     828\n",
              "1     240\n",
              "Name: Round, dtype: int64"
            ]
          },
          "execution_count": 157,
          "metadata": {},
          "output_type": "execute_result"
        }
      ],
      "source": [
        "print(df_train[\"Round\"].isnull().sum())\n",
        "df_train[\"Round\"].value_counts()"
      ]
    },
    {
      "cell_type": "markdown",
      "metadata": {},
      "source": [
        "Home_lang"
      ]
    },
    {
      "cell_type": "code",
      "execution_count": 158,
      "metadata": {},
      "outputs": [
        {
          "name": "stdout",
          "output_type": "stream",
          "text": [
            "3639\n"
          ]
        },
        {
          "data": {
            "text/plain": [
              "50 - 59 %     140\n",
              "40 - 49 %     137\n",
              "60 - 69 %      74\n",
              "70 - 79 %      18\n",
              "30 - 39 %       7\n",
              "80 - 100 %      5\n",
              "Name: Home_lang, dtype: int64"
            ]
          },
          "execution_count": 158,
          "metadata": {},
          "output_type": "execute_result"
        }
      ],
      "source": [
        "print(df_train[\"Home_lang\"].isnull().sum())\n",
        "df_train[\"Home_lang\"].value_counts()"
      ]
    },
    {
      "cell_type": "markdown",
      "metadata": {},
      "source": [
        "Additional_lang"
      ]
    },
    {
      "cell_type": "code",
      "execution_count": 159,
      "metadata": {},
      "outputs": [
        {
          "name": "stdout",
          "output_type": "stream",
          "text": [
            "2002\n"
          ]
        },
        {
          "data": {
            "text/plain": [
              "50 - 59 %     820\n",
              "60 - 69 %     518\n",
              "40 - 49 %     445\n",
              "70 - 79 %     160\n",
              "30 - 39 %      59\n",
              "80 - 100 %     16\n",
              "Name: Additional_lang, dtype: int64"
            ]
          },
          "execution_count": 159,
          "metadata": {},
          "output_type": "execute_result"
        }
      ],
      "source": [
        "print(df_train[\"Additional_lang\"].isnull().sum())\n",
        "df_train[\"Additional_lang\"].value_counts()\n"
      ]
    },
    {
      "cell_type": "markdown",
      "metadata": {},
      "source": [
        "Female"
      ]
    },
    {
      "cell_type": "code",
      "execution_count": 160,
      "metadata": {},
      "outputs": [
        {
          "name": "stdout",
          "output_type": "stream",
          "text": [
            "0\n"
          ]
        },
        {
          "data": {
            "text/plain": [
              "1    2269\n",
              "0    1751\n",
              "Name: Female, dtype: int64"
            ]
          },
          "execution_count": 160,
          "metadata": {},
          "output_type": "execute_result"
        }
      ],
      "source": [
        "print(df_train[\"Female\"].isnull().sum())\n",
        "df_train[\"Female\"].value_counts()"
      ]
    },
    {
      "cell_type": "markdown",
      "metadata": {},
      "source": [
        "Science"
      ]
    },
    {
      "cell_type": "code",
      "execution_count": 161,
      "metadata": {},
      "outputs": [
        {
          "name": "stdout",
          "output_type": "stream",
          "text": [
            "3288\n"
          ]
        },
        {
          "data": {
            "text/plain": [
              "30 - 39 %     263\n",
              "40 - 49 %     182\n",
              "0 - 29 %      116\n",
              "50 - 59 %      98\n",
              "60 - 69 %      47\n",
              "80 - 100 %     14\n",
              "70 - 79 %      12\n",
              "Name: Science, dtype: int64"
            ]
          },
          "execution_count": 161,
          "metadata": {},
          "output_type": "execute_result"
        }
      ],
      "source": [
        "print(df_train[\"Science\"].isnull().sum())\n",
        "df_train[\"Science\"].value_counts()"
      ]
    },
    {
      "cell_type": "markdown",
      "metadata": {},
      "source": [
        "Math\n"
      ]
    },
    {
      "cell_type": "code",
      "execution_count": 162,
      "metadata": {},
      "outputs": [
        {
          "name": "stdout",
          "output_type": "stream",
          "text": [
            "3023\n"
          ]
        },
        {
          "data": {
            "text/plain": [
              "0 - 29 %      321\n",
              "30 - 39 %     299\n",
              "40 - 49 %     197\n",
              "50 - 59 %      99\n",
              "60 - 69 %      49\n",
              "70 - 79 %      21\n",
              "80 - 100 %     11\n",
              "Name: Math, dtype: int64"
            ]
          },
          "execution_count": 162,
          "metadata": {},
          "output_type": "execute_result"
        }
      ],
      "source": [
        "print(df_train[\"Math\"].isnull().sum())\n",
        "df_train[\"Math\"].value_counts()"
      ]
    },
    {
      "cell_type": "markdown",
      "metadata": {},
      "source": [
        "Mathlit"
      ]
    },
    {
      "cell_type": "code",
      "execution_count": 163,
      "metadata": {},
      "outputs": [
        {
          "name": "stdout",
          "output_type": "stream",
          "text": [
            "2667\n"
          ]
        },
        {
          "data": {
            "text/plain": [
              "40 - 49 %     420\n",
              "30 - 39 %     344\n",
              "50 - 59 %     292\n",
              "60 - 69 %     154\n",
              "0 - 29 %       80\n",
              "70 - 79 %      50\n",
              "80 - 100 %     13\n",
              "Name: Mathlit, dtype: int64"
            ]
          },
          "execution_count": 163,
          "metadata": {},
          "output_type": "execute_result"
        }
      ],
      "source": [
        "print(df_train[\"Mathlit\"].isnull().sum())\n",
        "df_train[\"Mathlit\"].value_counts()"
      ]
    },
    {
      "cell_type": "markdown",
      "metadata": {
        "id": "TP2UHPh7h750"
      },
      "source": [
        "**sa_citizen**"
      ]
    },
    {
      "cell_type": "code",
      "execution_count": 164,
      "metadata": {
        "colab": {
          "base_uri": "https://localhost:8080/"
        },
        "id": "a9IH476kP6Dr",
        "outputId": "adb575f3-3e23-4695-b1c5-de3dfa54bea9"
      },
      "outputs": [
        {
          "name": "stdout",
          "output_type": "stream",
          "text": [
            "0\n"
          ]
        },
        {
          "data": {
            "text/plain": [
              "1    4018\n",
              "0       2\n",
              "Name: Sa_citizen, dtype: int64"
            ]
          },
          "execution_count": 164,
          "metadata": {},
          "output_type": "execute_result"
        }
      ],
      "source": [
        "print(df_train[\"Sa_citizen\"].isnull().sum())\n",
        "df_train[\"Sa_citizen\"].value_counts()"
      ]
    },
    {
      "cell_type": "markdown",
      "metadata": {
        "id": "mwkUm_8Vh-kX"
      },
      "source": [
        "The values where `sa_citizen` are 0 are very underrepresented. It could be a good idea to remove the rows where `sa_citizen` = 0 but that could lead to a loss of data. Alternatively, one could consider removing the column altogether.\n",
        "\n",
        "**geography**"
      ]
    },
    {
      "cell_type": "code",
      "execution_count": 165,
      "metadata": {
        "colab": {
          "base_uri": "https://localhost:8080/"
        },
        "id": "AqEUC8ITQJf0",
        "outputId": "48e8a76c-89d7-4b1f-e1c0-399d0c2ed1ca"
      },
      "outputs": [
        {
          "name": "stdout",
          "output_type": "stream",
          "text": [
            "0\n"
          ]
        },
        {
          "data": {
            "text/plain": [
              "Urban     2797\n",
              "Rural      803\n",
              "Suburb     420\n",
              "Name: Geography, dtype: int64"
            ]
          },
          "execution_count": 165,
          "metadata": {},
          "output_type": "execute_result"
        }
      ],
      "source": [
        "print(df_train[\"Geography\"].isnull().sum())\n",
        "df_train[\"Geography\"].value_counts()"
      ]
    },
    {
      "cell_type": "markdown",
      "metadata": {
        "id": "49eTD7u6iZGO"
      },
      "source": [
        "From this, we see that candidates come from three geographical categories: Rural, Suburb, and Urban. The majority come from urban areas.\n",
        "\n",
        "**tenure**"
      ]
    },
    {
      "cell_type": "code",
      "execution_count": 166,
      "metadata": {
        "colab": {
          "base_uri": "https://localhost:8080/",
          "height": 472
        },
        "id": "RBUvOVimQbJq",
        "outputId": "ac67c696-142f-4dc6-f6fb-cf89cbe16996"
      },
      "outputs": [
        {
          "data": {
            "image/png": "[encoded data removed]",
            "text/plain": [
              "<Figure size 432x288 with 1 Axes>"
            ]
          },
          "metadata": {
            "needs_background": "light"
          },
          "output_type": "display_data"
        }
      ],
      "source": [
        "# Generate a histogram of the tenure variable using matplotlib\n",
        "plt.hist(df_train[\"Tenure\"])\n",
        "plt.xlabel(\"Tenure\")\n",
        "plt.ylabel(\"Frequency\")\n",
        "plt.title(\"Histogram of Tenure\")\n",
        "plt.show()"
      ]
    },
    {
      "cell_type": "markdown",
      "metadata": {
        "id": "ALcMChFFihCo"
      },
      "source": [
        "This histogram indicates that `tenure` has a skewed distribution, with a concentration of values towards the lower end and the presence of outliers.\n",
        "\n",
        "Next, we will look at the distribution of the `birthyear` variable.\n",
        "\n",
        "**birthyear**"
      ]
    },
    {
      "cell_type": "code",
      "execution_count": 167,
      "metadata": {
        "colab": {
          "base_uri": "https://localhost:8080/",
          "height": 472
        },
        "id": "qT8W8TMiixjp",
        "outputId": "ad1ceaca-14d2-43d1-a942-44391c01a018"
      },
      "outputs": [
        {
          "data": {
            "image/png": "[encoded data removed]",
            "text/plain": [
              "<Figure size 432x288 with 1 Axes>"
            ]
          },
          "metadata": {
            "needs_background": "light"
          },
          "output_type": "display_data"
        }
      ],
      "source": [
        "# Generate a boxplot of the birthyear variable using matplotlib\n",
        "\n",
        "plt.boxplot(df_train['Birthyear'])\n",
        "plt.title(\"Boxplot of Birth Year\")\n",
        "plt.xlabel(\"Birth Year\")\n",
        "\n",
        "plt.show()"
      ]
    },
    {
      "cell_type": "markdown",
      "metadata": {
        "id": "pHG2nXCYjB7L"
      },
      "source": [
        "The presence of many points below the first quartile suggests a left-skewed skewed distribution, with many outliers on the lower end.\n",
        "To get more details, we can use the `pandas.DataFrame.describe()` function."
      ]
    },
    {
      "cell_type": "code",
      "execution_count": 168,
      "metadata": {
        "colab": {
          "base_uri": "https://localhost:8080/"
        },
        "id": "Fjt2zzlfj0mB",
        "outputId": "0b2c2782-7efc-4bdd-c6b0-053ceabbefb8"
      },
      "outputs": [
        {
          "data": {
            "text/plain": [
              "count    4020.000000\n",
              "mean     1997.462935\n",
              "std         4.378334\n",
              "min      1972.000000\n",
              "25%      1995.000000\n",
              "50%      1999.000000\n",
              "75%      2000.000000\n",
              "max      2004.000000\n",
              "Name: Birthyear, dtype: float64"
            ]
          },
          "execution_count": 168,
          "metadata": {},
          "output_type": "execute_result"
        }
      ],
      "source": [
        "#  get the key statistics of `birthyear` using pandas.DataFrame.describe()\n",
        "df_train['Birthyear'].describe()"
      ]
    },
    {
      "cell_type": "markdown",
      "metadata": {
        "id": "zD7G2xlXkGwY"
      },
      "source": [
        "From this, we see that most candidates were born between 1995 and 2000."
      ]
    },
    {
      "cell_type": "markdown",
      "metadata": {
        "id": "PKXYuubLQ9Va"
      },
      "source": [
        "## Bivariate Analysis\n",
        "\n",
        "Now, let us look at the relationships between a few variables and the target variables."
      ]
    },
    {
      "cell_type": "code",
      "execution_count": 169,
      "metadata": {
        "colab": {
          "base_uri": "https://localhost:8080/",
          "height": 472
        },
        "id": "JI6OGwhfQegH",
        "outputId": "327db0f8-c694-4343-ac80-9eba9a330ddc"
      },
      "outputs": [
        {
          "data": {
            "image/png": "[encoded data removed]",
            "text/plain": [
              "<Figure size 432x288 with 1 Axes>"
            ]
          },
          "metadata": {
            "needs_background": "light"
          },
          "output_type": "display_data"
        }
      ],
      "source": [
        "sns.kdeplot(data=df_train, x=\"Birthyear\", hue=\"Target\", fill=True, alpha=0.5)\n",
        "plt.xlabel(\"Birth Year\")\n",
        "plt.ylabel(\"Count\")\n",
        "plt.title(\"Histogram of Birth Year by Target\")\n",
        "plt.show()"
      ]
    },
    {
      "cell_type": "markdown",
      "metadata": {
        "id": "l1TmgisRkm6g"
      },
      "source": [
        "The ages of candidates with a positive outcome and those with a negative outcome seem to follow a similar distribution.\n",
        "\n",
        "We will now look at the percentage of candidates with a positive outcome in each province."
      ]
    },
    {
      "cell_type": "code",
      "execution_count": 170,
      "metadata": {
        "id": "e2GLIV17RNRy"
      },
      "outputs": [],
      "source": [
        "# Calculate the percentage of positive income for each province\n",
        "\n",
        "df_province = df_train.groupby('Province').agg(percentage=('Target', 'mean')).reset_index()\n",
        "df_province[\"percentage\"] = df_province[\"percentage\"] * 100\n",
        "df_province = df_province.sort_values('percentage', ascending=False).reset_index()"
      ]
    },
    {
      "cell_type": "code",
      "execution_count": 171,
      "metadata": {
        "colab": {
          "base_uri": "https://localhost:8080/",
          "height": 652
        },
        "id": "F3VUwq8bRrP1",
        "outputId": "604485b9-1cde-4473-b5a4-3e9daa885cc5"
      },
      "outputs": [
        {
          "data": {
            "image/png": "[encoded data removed]",
            "text/plain": [
              "<Figure size 720x432 with 1 Axes>"
            ]
          },
          "metadata": {
            "needs_background": "light"
          },
          "output_type": "display_data"
        }
      ],
      "source": [
        "# Generate a bar plot for the 'percentage' positive income for each province\n",
        "\n",
        "plt.figure(figsize=(10, 6))\n",
        "sns.barplot(data=df_province, x='Province', y='percentage')\n",
        "plt.xlabel('Province')\n",
        "plt.ylabel('Percentage of Positive Outcome')\n",
        "plt.title('Percentage of Positive Outcome by Province')\n",
        "\n",
        "for index, row in df_province.sort_values('percentage', ascending=False).iterrows():\n",
        "  plt.text(row.name, row.percentage, f\"{round(row.percentage, 1)}%\", ha='center', va='bottom')\n",
        "plt.xticks(rotation=90, ha='center')\n",
        "\n",
        "plt.show()"
      ]
    },
    {
      "cell_type": "markdown",
      "metadata": {
        "id": "9hKRDfZGk2az"
      },
      "source": [
        "In the training data, candidates from the Western Cape are the most likely to get a positive outcome, while those from the North West province are least likely.\n",
        "\n",
        "What about the `geography` variable?"
      ]
    },
    {
      "cell_type": "code",
      "execution_count": 172,
      "metadata": {
        "id": "vyUJde5sTd2P"
      },
      "outputs": [],
      "source": [
        "# Calculate the percentage of positive income for each `geography`\n",
        "\n",
        "df_geography = df_train.groupby('Geography').agg(percentage=('Target', 'mean')).reset_index()\n",
        "df_geography[\"percentage\"] = df_geography[\"percentage\"] * 100\n",
        "df_geography = df_geography.sort_values('percentage', ascending=False).reset_index()"
      ]
    },
    {
      "cell_type": "code",
      "execution_count": 173,
      "metadata": {
        "colab": {
          "base_uri": "https://localhost:8080/",
          "height": 446
        },
        "id": "8-HpNkbPWQsy",
        "outputId": "7d9accb4-ad5e-4eee-a937-5945965dadd4"
      },
      "outputs": [
        {
          "data": {
            "image/png": "[encoded data removed]",
            "text/plain": [
              "<Figure size 432x288 with 1 Axes>"
            ]
          },
          "metadata": {
            "needs_background": "light"
          },
          "output_type": "display_data"
        }
      ],
      "source": [
        "# Generate a bar plot for the 'percentage' positive income for each `geography`\n",
        "\n",
        "plt.figure(figsize=(6, 4))\n",
        "sns.barplot(data=df_geography, x='Geography', y='percentage')\n",
        "plt.xlabel('Geography')\n",
        "plt.ylabel('Percentage of Positive Outcome')\n",
        "plt.title('Percentage of Positive Outcome by Geography')\n",
        "\n",
        "# Add labels to the bars\n",
        "for index, row in df_geography.iterrows():\n",
        "    plt.text(row.name, row.percentage, f\"{round(row.percentage, 1)}%\", ha='center', va='bottom')\n",
        "\n",
        "# Rotate x-axis labels\n",
        "plt.xticks(rotation=90, ha='center')\n",
        "\n",
        "plt.show()"
      ]
    },
    {
      "cell_type": "markdown",
      "metadata": {
        "id": "dC0dzNhAk7Lr"
      },
      "source": [
        "We see that people from \"Urban\" areas are most likely to get a positive outcome.\n",
        "\n",
        "In terms if gender, we see below that males in the data set are more likely to get a job after one year."
      ]
    },
    {
      "cell_type": "code",
      "execution_count": 174,
      "metadata": {
        "id": "US_spNsQWicJ"
      },
      "outputs": [],
      "source": [
        "df_female = df_train.groupby('Female').agg(percentage=('Target', 'mean')).reset_index()\n",
        "df_female[\"percentage\"] = df_female[\"percentage\"] * 100\n",
        "df_female = df_female.sort_values('percentage', ascending=False).reset_index()"
      ]
    },
    {
      "cell_type": "code",
      "execution_count": 175,
      "metadata": {
        "colab": {
          "base_uri": "https://localhost:8080/",
          "height": 559
        },
        "id": "zv8Fr5IxXNNc",
        "outputId": "160d43e0-9550-40ac-b114-6d5648719757"
      },
      "outputs": [
        {
          "data": {
            "image/png": "[encoded data removed]",
            "text/plain": [
              "<Figure size 720x432 with 1 Axes>"
            ]
          },
          "metadata": {
            "needs_background": "light"
          },
          "output_type": "display_data"
        }
      ],
      "source": [
        "plt.figure(figsize=(10, 6))\n",
        "sns.barplot(data=df_female, x='Female', y='percentage')\n",
        "plt.xlabel('Status')\n",
        "plt.ylabel('Percentage of Positive Outcome')\n",
        "plt.title('Percentage of Positive Outcome by Gender')\n",
        "\n",
        "# Add labels to the bars\n",
        "for index, row in df_female.iterrows():\n",
        "    plt.text(row.name, row.percentage, f\"{round(row.percentage, 1)}%\", ha='center', va='bottom')\n",
        "\n",
        "# Rotate x-axis labels\n",
        "plt.xticks(rotation=90, ha='center')\n",
        "\n",
        "plt.show()"
      ]
    },
    {
      "cell_type": "markdown",
      "metadata": {
        "id": "q1axxWYLYoJr"
      },
      "source": [
        "# Feature Engineering\n",
        "\n",
        "Feature engineering is the process of transforming raw data into meaningful features that may improve the performance of machine learning models. It involves selecting, creating, and transforming variables to capture relevant information and enhance the predictive power of the model.\n",
        "\n",
        "Let's extract the year of the survey then use it to calculate the age of each participant at the time of the survey."
      ]
    },
    {
      "cell_type": "code",
      "execution_count": 176,
      "metadata": {
        "colab": {
          "base_uri": "https://localhost:8080/"
        },
        "id": "fOQevCTbXh6f",
        "outputId": "4728f011-52ed-41cd-98a2-9f7d11ac7791"
      },
      "outputs": [
        {
          "data": {
            "text/plain": [
              "0    22\n",
              "1    34\n",
              "2    26\n",
              "3    22\n",
              "4    25\n",
              "Name: Age_survey, dtype: int64"
            ]
          },
          "execution_count": 176,
          "metadata": {},
          "output_type": "execute_result"
        }
      ],
      "source": [
        "df_train['Year_survey'] = pd.to_datetime(df_train['Survey_date']).dt.year\n",
        "df_train['Age_survey'] = df_train['Year_survey'] - df_train['Birthyear']\n",
        "df_train['Age_survey'].head()"
      ]
    },
    {
      "cell_type": "code",
      "execution_count": 177,
      "metadata": {},
      "outputs": [
        {
          "data": {
            "image/png": "[encoded data removed]",
            "text/plain": [
              "<Figure size 432x288 with 1 Axes>"
            ]
          },
          "metadata": {
            "needs_background": "light"
          },
          "output_type": "display_data"
        }
      ],
      "source": [
        "sns.kdeplot(data=df_train, x=\"Age_survey\", hue=\"Target\", fill=True, alpha=0.5)\n",
        "plt.xlabel(\"Age_survey\")\n",
        "plt.ylabel(\"Target\")\n",
        "plt.title(\"Age Survey vs Target\")\n",
        "plt.show()"
      ]
    },
    {
      "cell_type": "markdown",
      "metadata": {
        "id": "AjwhL7SVl4qm"
      },
      "source": [
        "Next, we create a variable that indicates the number of subjects where the participants have obtained 70% or more."
      ]
    },
    {
      "cell_type": "code",
      "execution_count": 178,
      "metadata": {
        "colab": {
          "base_uri": "https://localhost:8080/"
        },
        "id": "nU1o9Ls0l6mH",
        "outputId": "79abde26-c342-4069-f663-818284821db7"
      },
      "outputs": [
        {
          "data": {
            "text/plain": [
              "0    3743\n",
              "1     242\n",
              "2      27\n",
              "3       8\n",
              "Name: Subjects_over_70, dtype: int64"
            ]
          },
          "execution_count": 178,
          "metadata": {},
          "output_type": "execute_result"
        }
      ],
      "source": [
        "df_train['Subjects_over_70'] = df_train.apply(lambda row: row.str.contains(\"80 - 100 %|70 - 79 %\").sum(), axis=1)\n",
        "df_train['Subjects_over_70'].value_counts()"
      ]
    },
    {
      "cell_type": "code",
      "execution_count": 179,
      "metadata": {},
      "outputs": [
        {
          "data": {
            "text/html": [
              "<div>\n",
              "<style scoped>\n",
              "    .dataframe tbody tr th:only-of-type {\n",
              "        vertical-align: middle;\n",
              "    }\n",
              "\n",
              "    .dataframe tbody tr th {\n",
              "        vertical-align: top;\n",
              "    }\n",
              "\n",
              "    .dataframe thead th {\n",
              "        text-align: right;\n",
              "    }\n",
              "</style>\n",
              "<table border=\"1\" class=\"dataframe\">\n",
              "  <thead>\n",
              "    <tr style=\"text-align: right;\">\n",
              "      <th></th>\n",
              "      <th>Person_id</th>\n",
              "      <th>Survey_date</th>\n",
              "      <th>Round</th>\n",
              "      <th>Status</th>\n",
              "      <th>Tenure</th>\n",
              "      <th>Geography</th>\n",
              "      <th>Province</th>\n",
              "      <th>Matric</th>\n",
              "      <th>Degree</th>\n",
              "      <th>Diploma</th>\n",
              "      <th>...</th>\n",
              "      <th>Home_lang</th>\n",
              "      <th>Science</th>\n",
              "      <th>Female</th>\n",
              "      <th>Sa_citizen</th>\n",
              "      <th>Birthyear</th>\n",
              "      <th>Birthmonth</th>\n",
              "      <th>Target</th>\n",
              "      <th>Year_survey</th>\n",
              "      <th>Age_survey</th>\n",
              "      <th>Subjects_over_70</th>\n",
              "    </tr>\n",
              "  </thead>\n",
              "  <tbody>\n",
              "    <tr>\n",
              "      <th>0</th>\n",
              "      <td>Id_eqz61wz7yn</td>\n",
              "      <td>2022-02-23</td>\n",
              "      <td>2</td>\n",
              "      <td>studying</td>\n",
              "      <td>NaN</td>\n",
              "      <td>Rural</td>\n",
              "      <td>Mpumalanga</td>\n",
              "      <td>1.0</td>\n",
              "      <td>0.0</td>\n",
              "      <td>0.0</td>\n",
              "      <td>...</td>\n",
              "      <td>NaN</td>\n",
              "      <td>0 - 29 %</td>\n",
              "      <td>1</td>\n",
              "      <td>1</td>\n",
              "      <td>2000</td>\n",
              "      <td>5</td>\n",
              "      <td>0</td>\n",
              "      <td>2022</td>\n",
              "      <td>22</td>\n",
              "      <td>0</td>\n",
              "    </tr>\n",
              "  </tbody>\n",
              "</table>\n",
              "<p>1 rows × 24 columns</p>\n",
              "</div>"
            ],
            "text/plain": [
              "       Person_id Survey_date  Round    Status  Tenure Geography    Province  \\\n",
              "0  Id_eqz61wz7yn  2022-02-23      2  studying     NaN     Rural  Mpumalanga   \n",
              "\n",
              "   Matric  Degree  Diploma  ...  Home_lang   Science Female Sa_citizen  \\\n",
              "0     1.0     0.0      0.0  ...        NaN  0 - 29 %      1          1   \n",
              "\n",
              "  Birthyear Birthmonth  Target  Year_survey  Age_survey  Subjects_over_70  \n",
              "0      2000          5       0         2022          22                 0  \n",
              "\n",
              "[1 rows x 24 columns]"
            ]
          },
          "execution_count": 179,
          "metadata": {},
          "output_type": "execute_result"
        }
      ],
      "source": [
        "df_train.iloc[0:1]"
      ]
    },
    {
      "cell_type": "code",
      "execution_count": 180,
      "metadata": {},
      "outputs": [
        {
          "data": {
            "image/png": "[encoded data removed]",
            "text/plain": [
              "<Figure size 576x288 with 1 Axes>"
            ]
          },
          "metadata": {
            "needs_background": "light"
          },
          "output_type": "display_data"
        }
      ],
      "source": [
        "df_status_tenure = pd.pivot_table(df_train, values=[\"Tenure\"], index=\"Status\", columns=\"Target\", aggfunc={'Tenure': 'mean'})\n",
        "\n",
        "# Reset the index and select the columns\n",
        "df_status_tenure = df_status_tenure.reset_index()\n",
        "df_status_tenure.columns = ['Status', '0', '1']\n",
        "df_status_tenure = df_status_tenure.set_index(\"Status\")\n",
        "df_status_tenure.plot.barh( figsize=(8, 4))\n",
        "plt.xlabel(\"Tenure\")\n",
        "plt.ylabel(\"Status\")\n",
        "plt.title(\"Tenure by Status\")\n",
        "plt.legend(title=\"Target\")\n",
        "\n",
        "plt.show()"
      ]
    },
    {
      "cell_type": "code",
      "execution_count": 181,
      "metadata": {},
      "outputs": [
        {
          "data": {
            "text/plain": [
              "Round              -0.192630\n",
              "Tenure              0.022178\n",
              "Matric              0.048094\n",
              "Degree              0.079067\n",
              "Diploma             0.090482\n",
              "Schoolquintile      0.071164\n",
              "Female             -0.103646\n",
              "Sa_citizen         -0.011438\n",
              "Birthyear          -0.093354\n",
              "Birthmonth         -0.007056\n",
              "Target              1.000000\n",
              "Year_survey        -0.198347\n",
              "Age_survey          0.066531\n",
              "Subjects_over_70   -0.001789\n",
              "Name: Target, dtype: float64"
            ]
          },
          "execution_count": 181,
          "metadata": {},
          "output_type": "execute_result"
        }
      ],
      "source": [
        "df_train.corr()[\"Target\"]"
      ]
    },
    {
      "cell_type": "code",
      "execution_count": 182,
      "metadata": {},
      "outputs": [
        {
          "data": {
            "image/png": "[encoded data removed]",
            "text/plain": [
              "<Figure size 576x432 with 2 Axes>"
            ]
          },
          "metadata": {
            "needs_background": "light"
          },
          "output_type": "display_data"
        }
      ],
      "source": [
        "df_train.corr()\n",
        "plt.figure(figsize=(8, 6))\n",
        "sns.heatmap(df_train.corr(), annot=True, cmap='coolwarm', fmt='.2f')\n",
        "plt.title('Correlation Matrix')\n",
        "plt.show()"
      ]
    },
    {
      "cell_type": "markdown",
      "metadata": {},
      "source": [
        "## Multivariate Analysis"
      ]
    },
    {
      "cell_type": "code",
      "execution_count": 183,
      "metadata": {},
      "outputs": [
        {
          "name": "stderr",
          "output_type": "stream",
          "text": [
            "C:\\Users\\110342\\AppData\\Local\\Temp\\ipykernel_10884\\2625280746.py:1: FutureWarning: Indexing with multiple keys (implicitly converted to a tuple of keys) will be deprecated, use a list instead.\n",
            "  completion_rate = df_train.groupby('Birthyear')['Matric','Diploma','Degree'].mean()\n"
          ]
        },
        {
          "data": {
            "image/png": "[encoded data removed]",
            "text/plain": [
              "<Figure size 432x288 with 1 Axes>"
            ]
          },
          "metadata": {
            "needs_background": "light"
          },
          "output_type": "display_data"
        }
      ],
      "source": [
        "completion_rate = df_train.groupby('Birthyear')['Matric','Diploma','Degree'].mean()\n",
        "\n",
        "# Plot the completion rate over the years\n",
        "#plt.figure(figsize=(20, 10))\n",
        "completion_rate.plot(marker='o', linestyle='-')\n",
        "plt.xlabel('Birth Year')\n",
        "plt.ylabel('Completion Rate')\n",
        "plt.title('Yearly Matric Completion Rate')\n",
        "plt.grid(True)\n",
        "plt.show()"
      ]
    },
    {
      "cell_type": "code",
      "execution_count": 184,
      "metadata": {},
      "outputs": [
        {
          "data": {
            "text/plain": [
              "Index(['Person_id', 'Survey_date', 'Round', 'Status', 'Tenure', 'Geography',\n",
              "       'Province', 'Matric', 'Degree', 'Diploma', 'Schoolquintile', 'Math',\n",
              "       'Mathlit', 'Additional_lang', 'Home_lang', 'Science', 'Female',\n",
              "       'Sa_citizen', 'Birthyear', 'Birthmonth', 'Target', 'Year_survey',\n",
              "       'Age_survey', 'Subjects_over_70'],\n",
              "      dtype='object')"
            ]
          },
          "execution_count": 184,
          "metadata": {},
          "output_type": "execute_result"
        }
      ],
      "source": [
        "df_train.columns"
      ]
    },
    {
      "cell_type": "code",
      "execution_count": 185,
      "metadata": {},
      "outputs": [
        {
          "data": {
            "text/plain": [
              "<matplotlib.legend.Legend at 0x23c100b9370>"
            ]
          },
          "execution_count": 185,
          "metadata": {},
          "output_type": "execute_result"
        },
        {
          "data": {
            "image/png": "[encoded data removed]",
            "text/plain": [
              "<Figure size 576x288 with 1 Axes>"
            ]
          },
          "metadata": {
            "needs_background": "light"
          },
          "output_type": "display_data"
        }
      ],
      "source": [
        "df_Schoolquintile = df_train.groupby([\"Schoolquintile\",\"Target\"])[\"Target\"].count().unstack().reset_index()\n",
        "df_Schoolquintile = df_Schoolquintile.set_index(\"Schoolquintile\")\n",
        "df_Schoolquintile.plot.barh( figsize=(8, 4))\n",
        "plt.xlabel(\"Target\")\n",
        "plt.ylabel(\"Schoolquintile\")\n",
        "plt.title(\"Schoolquintile by Target\")\n",
        "plt.legend(title=\"Schoolquintile\")\n"
      ]
    },
    {
      "cell_type": "markdown",
      "metadata": {
        "id": "pHdT8INDuXPH"
      },
      "source": [
        "Feel free to explore these newly created variables and decide whether you'd like to discard them."
      ]
    },
    {
      "cell_type": "markdown",
      "metadata": {
        "id": "9aGzBF_OuZ_q"
      },
      "source": [
        "## Dummy variables\n",
        "\n",
        "In this section, we convert our categorical variables into dummy variables."
      ]
    },
    {
      "cell_type": "code",
      "execution_count": 186,
      "metadata": {
        "colab": {
          "base_uri": "https://localhost:8080/"
        },
        "id": "g-pOpgD6Y8Jz",
        "outputId": "ae80d709-1770-4901-be97-04785a9585f0"
      },
      "outputs": [
        {
          "data": {
            "text/plain": [
              "Index(['Tenure', 'Matric', 'Degree', 'Diploma', 'Female', 'Sa_citizen',\n",
              "       'Birthyear', 'Birthmonth', 'Target', 'Year_survey', 'Age_survey',\n",
              "       'Subjects_over_70', 'Round_2.0', 'Round_3.0', 'Round_4.0', 'Round_nan',\n",
              "       'Status_other', 'Status_self employed', 'Status_studying',\n",
              "       'Status_unemployed', 'Status_wage and self employed',\n",
              "       'Status_wage employed', 'Status_nan', 'Geography_Suburb',\n",
              "       'Geography_Urban', 'Geography_nan', 'Province_Free State',\n",
              "       'Province_Gauteng', 'Province_KwaZulu-Natal', 'Province_Limpopo',\n",
              "       'Province_Mpumalanga', 'Province_North West', 'Province_Northern Cape',\n",
              "       'Province_Western Cape', 'Province_nan', 'Schoolquintile_1.0',\n",
              "       'Schoolquintile_2.0', 'Schoolquintile_3.0', 'Schoolquintile_4.0',\n",
              "       'Schoolquintile_5.0', 'Schoolquintile_nan', 'Math_30 - 39 %',\n",
              "       'Math_40 - 49 %', 'Math_50 - 59 %', 'Math_60 - 69 %', 'Math_70 - 79 %',\n",
              "       'Math_80 - 100 %', 'Math_nan', 'Mathlit_30 - 39 %', 'Mathlit_40 - 49 %',\n",
              "       'Mathlit_50 - 59 %', 'Mathlit_60 - 69 %', 'Mathlit_70 - 79 %',\n",
              "       'Mathlit_80 - 100 %', 'Mathlit_nan', 'Additional_lang_40 - 49 %',\n",
              "       'Additional_lang_50 - 59 %', 'Additional_lang_60 - 69 %',\n",
              "       'Additional_lang_70 - 79 %', 'Additional_lang_80 - 100 %',\n",
              "       'Additional_lang_nan', 'Home_lang_40 - 49 %', 'Home_lang_50 - 59 %',\n",
              "       'Home_lang_60 - 69 %', 'Home_lang_70 - 79 %', 'Home_lang_80 - 100 %',\n",
              "       'Home_lang_nan', 'Science_30 - 39 %', 'Science_40 - 49 %',\n",
              "       'Science_50 - 59 %', 'Science_60 - 69 %', 'Science_70 - 79 %',\n",
              "       'Science_80 - 100 %', 'Science_nan'],\n",
              "      dtype='object')"
            ]
          },
          "execution_count": 186,
          "metadata": {},
          "output_type": "execute_result"
        }
      ],
      "source": [
        "# Create a list of categorical variables\n",
        "selected_vars = [\"Round\", \"Status\", \"Geography\", \"Province\",\n",
        "                                              \"Schoolquintile\", \"Math\", \"Mathlit\", \"Additional_lang\", \"Home_lang\", \"Science\"]\n",
        "# Remove variables we will not use\n",
        "df_train_dummy = df_train.drop([\"Person_id\", \"Survey_date\"], axis = 1)\n",
        "\n",
        "# Convert character variables to dummy variables\n",
        "df_train_dummy = pd.get_dummies(df_train_dummy, columns=selected_vars, drop_first=True, dummy_na=True)\n",
        "df_train_dummy.columns"
      ]
    },
    {
      "cell_type": "markdown",
      "metadata": {
        "id": "y0Fd1gsTvMXR"
      },
      "source": [
        "# Data cleaning\n",
        "\n",
        "## Cleaning column names\n",
        "\n",
        "The dummification process created some messy column names. Here, we're trying to clean those."
      ]
    },
    {
      "cell_type": "code",
      "execution_count": 187,
      "metadata": {
        "colab": {
          "base_uri": "https://localhost:8080/"
        },
        "id": "vC-pn7CFbJ7x",
        "outputId": "ebf80d7b-2911-47f2-bba0-780740ee4a9c"
      },
      "outputs": [
        {
          "data": {
            "text/plain": [
              "Index(['Tenure', 'Matric', 'Degree', 'Diploma', 'Female', 'Sa_citizen',\n",
              "       'Birthyear', 'Birthmonth', 'Target', 'Year_survey', 'Age_survey',\n",
              "       'Subjects_over_70', 'Round_20', 'Round_30', 'Round_40', 'Round_nan',\n",
              "       'Status_other', 'Status_self_employed', 'Status_studying',\n",
              "       'Status_unemployed', 'Status_wage_and_self_employed',\n",
              "       'Status_wage_employed', 'Status_nan', 'Geography_Suburb',\n",
              "       'Geography_Urban', 'Geography_nan', 'Province_Free_State',\n",
              "       'Province_Gauteng', 'Province_KwaZuluNatal', 'Province_Limpopo',\n",
              "       'Province_Mpumalanga', 'Province_North_West', 'Province_Northern_Cape',\n",
              "       'Province_Western_Cape', 'Province_nan', 'Schoolquintile_10',\n",
              "       'Schoolquintile_20', 'Schoolquintile_30', 'Schoolquintile_40',\n",
              "       'Schoolquintile_50', 'Schoolquintile_nan', 'Math_30_39', 'Math_40_49',\n",
              "       'Math_50_59', 'Math_60_69', 'Math_70_79', 'Math_80_100', 'Math_nan',\n",
              "       'Mathlit_30_39', 'Mathlit_40_49', 'Mathlit_50_59', 'Mathlit_60_69',\n",
              "       'Mathlit_70_79', 'Mathlit_80_100', 'Mathlit_nan',\n",
              "       'Additional_lang_40_49', 'Additional_lang_50_59',\n",
              "       'Additional_lang_60_69', 'Additional_lang_70_79',\n",
              "       'Additional_lang_80_100', 'Additional_lang_nan', 'Home_lang_40_49',\n",
              "       'Home_lang_50_59', 'Home_lang_60_69', 'Home_lang_70_79',\n",
              "       'Home_lang_80_100', 'Home_lang_nan', 'Science_30_39', 'Science_40_49',\n",
              "       'Science_50_59', 'Science_60_69', 'Science_70_79', 'Science_80_100',\n",
              "       'Science_nan'],\n",
              "      dtype='object')"
            ]
          },
          "execution_count": 187,
          "metadata": {},
          "output_type": "execute_result"
        }
      ],
      "source": [
        "# Clean column names\n",
        "df_train_dummy.columns = df_train_dummy.columns.str.replace(' ', '_')  # Replace spaces with underscores\n",
        "df_train_dummy.columns = df_train_dummy.columns.str.replace('[^\\w\\s]', '', regex=True)  # Remove special characters\n",
        "df_train_dummy.columns = df_train_dummy.columns.str.replace('_+', '_', regex=True)  # Replace consecutive underscores with a single underscore\n",
        "df_train_dummy.columns = df_train_dummy.columns.str.rstrip('_')  # Remove trailing underscores at the end\n",
        "df_train_dummy.columns"
      ]
    },
    {
      "cell_type": "markdown",
      "metadata": {
        "id": "GyOtZGyiy0Pp"
      },
      "source": [
        "## Dealing with missing values\n",
        "\n",
        "We will use a simplified method for replacing missing values: replacing them with zero."
      ]
    },
    {
      "cell_type": "code",
      "execution_count": 221,
      "metadata": {},
      "outputs": [
        {
          "data": {
            "text/plain": [
              "Index(['Person_id', 'Survey_date', 'Round', 'Status', 'Tenure', 'Geography',\n",
              "       'Province', 'Matric', 'Degree', 'Diploma', 'Schoolquintile', 'Math',\n",
              "       'Mathlit', 'Additional_lang', 'Home_lang', 'Science', 'Female',\n",
              "       'Sa_citizen', 'Birthyear', 'Birthmonth', 'Target', 'Year_survey',\n",
              "       'Age_survey', 'Subjects_over_70'],\n",
              "      dtype='object')"
            ]
          },
          "execution_count": 221,
          "metadata": {},
          "output_type": "execute_result"
        }
      ],
      "source": [
        "df_train.columns"
      ]
    },
    {
      "cell_type": "code",
      "execution_count": 199,
      "metadata": {},
      "outputs": [
        {
          "data": {
            "text/plain": [
              "1008"
            ]
          },
          "execution_count": 199,
          "metadata": {},
          "output_type": "execute_result"
        }
      ],
      "source": [
        "df_train.Matric.isnull().sum() "
      ]
    },
    {
      "cell_type": "code",
      "execution_count": 208,
      "metadata": {},
      "outputs": [
        {
          "data": {
            "text/plain": [
              "unemployed                1775\n",
              "studying                   966\n",
              "wage employed              763\n",
              "other                      278\n",
              "self employed              200\n",
              "employment programme        31\n",
              "wage and self employed       7\n",
              "Name: Status, dtype: int64"
            ]
          },
          "execution_count": 208,
          "metadata": {},
          "output_type": "execute_result"
        }
      ],
      "source": [
        "df_train[df_train.Matric.isna() & df_train.Status != \"self employed\"].Status.value_counts()"
      ]
    },
    {
      "cell_type": "code",
      "execution_count": 195,
      "metadata": {},
      "outputs": [
        {
          "data": {
            "text/plain": [
              "34.67661691542288"
            ]
          },
          "execution_count": 195,
          "metadata": {},
          "output_type": "execute_result"
        }
      ],
      "source": [
        "df_train.Tenure.isnull().sum() / df_train.shape[0] * 100"
      ]
    },
    {
      "cell_type": "code",
      "execution_count": 225,
      "metadata": {},
      "outputs": [
        {
          "data": {
            "text/html": [
              "<div>\n",
              "<style scoped>\n",
              "    .dataframe tbody tr th:only-of-type {\n",
              "        vertical-align: middle;\n",
              "    }\n",
              "\n",
              "    .dataframe tbody tr th {\n",
              "        vertical-align: top;\n",
              "    }\n",
              "\n",
              "    .dataframe thead th {\n",
              "        text-align: right;\n",
              "    }\n",
              "</style>\n",
              "<table border=\"1\" class=\"dataframe\">\n",
              "  <thead>\n",
              "    <tr style=\"text-align: right;\">\n",
              "      <th>Age_survey</th>\n",
              "      <th>18</th>\n",
              "      <th>19</th>\n",
              "      <th>20</th>\n",
              "      <th>21</th>\n",
              "      <th>22</th>\n",
              "      <th>23</th>\n",
              "      <th>24</th>\n",
              "      <th>25</th>\n",
              "      <th>26</th>\n",
              "      <th>27</th>\n",
              "      <th>...</th>\n",
              "      <th>30</th>\n",
              "      <th>31</th>\n",
              "      <th>32</th>\n",
              "      <th>33</th>\n",
              "      <th>34</th>\n",
              "      <th>35</th>\n",
              "      <th>37</th>\n",
              "      <th>38</th>\n",
              "      <th>41</th>\n",
              "      <th>43</th>\n",
              "    </tr>\n",
              "    <tr>\n",
              "      <th>Status</th>\n",
              "      <th></th>\n",
              "      <th></th>\n",
              "      <th></th>\n",
              "      <th></th>\n",
              "      <th></th>\n",
              "      <th></th>\n",
              "      <th></th>\n",
              "      <th></th>\n",
              "      <th></th>\n",
              "      <th></th>\n",
              "      <th></th>\n",
              "      <th></th>\n",
              "      <th></th>\n",
              "      <th></th>\n",
              "      <th></th>\n",
              "      <th></th>\n",
              "      <th></th>\n",
              "      <th></th>\n",
              "      <th></th>\n",
              "      <th></th>\n",
              "      <th></th>\n",
              "    </tr>\n",
              "  </thead>\n",
              "  <tbody>\n",
              "    <tr>\n",
              "      <th>employment programme</th>\n",
              "      <td>NaN</td>\n",
              "      <td>NaN</td>\n",
              "      <td>NaN</td>\n",
              "      <td>NaN</td>\n",
              "      <td>22.0</td>\n",
              "      <td>NaN</td>\n",
              "      <td>NaN</td>\n",
              "      <td>NaN</td>\n",
              "      <td>NaN</td>\n",
              "      <td>NaN</td>\n",
              "      <td>...</td>\n",
              "      <td>NaN</td>\n",
              "      <td>NaN</td>\n",
              "      <td>NaN</td>\n",
              "      <td>NaN</td>\n",
              "      <td>NaN</td>\n",
              "      <td>NaN</td>\n",
              "      <td>NaN</td>\n",
              "      <td>NaN</td>\n",
              "      <td>NaN</td>\n",
              "      <td>NaN</td>\n",
              "    </tr>\n",
              "    <tr>\n",
              "      <th>other</th>\n",
              "      <td>18.0</td>\n",
              "      <td>19.0</td>\n",
              "      <td>20.0</td>\n",
              "      <td>21.0</td>\n",
              "      <td>22.0</td>\n",
              "      <td>23.0</td>\n",
              "      <td>24.0</td>\n",
              "      <td>25.0</td>\n",
              "      <td>26.0</td>\n",
              "      <td>27.0</td>\n",
              "      <td>...</td>\n",
              "      <td>NaN</td>\n",
              "      <td>31.0</td>\n",
              "      <td>NaN</td>\n",
              "      <td>33.0</td>\n",
              "      <td>NaN</td>\n",
              "      <td>35.0</td>\n",
              "      <td>37.0</td>\n",
              "      <td>NaN</td>\n",
              "      <td>NaN</td>\n",
              "      <td>43.0</td>\n",
              "    </tr>\n",
              "    <tr>\n",
              "      <th>self employed</th>\n",
              "      <td>NaN</td>\n",
              "      <td>19.0</td>\n",
              "      <td>20.0</td>\n",
              "      <td>21.0</td>\n",
              "      <td>22.0</td>\n",
              "      <td>23.0</td>\n",
              "      <td>24.0</td>\n",
              "      <td>NaN</td>\n",
              "      <td>26.0</td>\n",
              "      <td>27.0</td>\n",
              "      <td>...</td>\n",
              "      <td>30.0</td>\n",
              "      <td>31.0</td>\n",
              "      <td>32.0</td>\n",
              "      <td>33.0</td>\n",
              "      <td>NaN</td>\n",
              "      <td>35.0</td>\n",
              "      <td>NaN</td>\n",
              "      <td>38.0</td>\n",
              "      <td>41.0</td>\n",
              "      <td>43.0</td>\n",
              "    </tr>\n",
              "    <tr>\n",
              "      <th>studying</th>\n",
              "      <td>NaN</td>\n",
              "      <td>NaN</td>\n",
              "      <td>20.0</td>\n",
              "      <td>21.0</td>\n",
              "      <td>22.0</td>\n",
              "      <td>23.0</td>\n",
              "      <td>24.0</td>\n",
              "      <td>25.0</td>\n",
              "      <td>26.0</td>\n",
              "      <td>NaN</td>\n",
              "      <td>...</td>\n",
              "      <td>NaN</td>\n",
              "      <td>NaN</td>\n",
              "      <td>NaN</td>\n",
              "      <td>33.0</td>\n",
              "      <td>NaN</td>\n",
              "      <td>35.0</td>\n",
              "      <td>NaN</td>\n",
              "      <td>NaN</td>\n",
              "      <td>NaN</td>\n",
              "      <td>NaN</td>\n",
              "    </tr>\n",
              "    <tr>\n",
              "      <th>unemployed</th>\n",
              "      <td>NaN</td>\n",
              "      <td>NaN</td>\n",
              "      <td>20.0</td>\n",
              "      <td>NaN</td>\n",
              "      <td>22.0</td>\n",
              "      <td>23.0</td>\n",
              "      <td>NaN</td>\n",
              "      <td>25.0</td>\n",
              "      <td>26.0</td>\n",
              "      <td>27.0</td>\n",
              "      <td>...</td>\n",
              "      <td>30.0</td>\n",
              "      <td>NaN</td>\n",
              "      <td>32.0</td>\n",
              "      <td>33.0</td>\n",
              "      <td>34.0</td>\n",
              "      <td>35.0</td>\n",
              "      <td>37.0</td>\n",
              "      <td>NaN</td>\n",
              "      <td>NaN</td>\n",
              "      <td>NaN</td>\n",
              "    </tr>\n",
              "    <tr>\n",
              "      <th>wage and self employed</th>\n",
              "      <td>NaN</td>\n",
              "      <td>NaN</td>\n",
              "      <td>NaN</td>\n",
              "      <td>NaN</td>\n",
              "      <td>NaN</td>\n",
              "      <td>NaN</td>\n",
              "      <td>NaN</td>\n",
              "      <td>NaN</td>\n",
              "      <td>NaN</td>\n",
              "      <td>NaN</td>\n",
              "      <td>...</td>\n",
              "      <td>30.0</td>\n",
              "      <td>NaN</td>\n",
              "      <td>NaN</td>\n",
              "      <td>NaN</td>\n",
              "      <td>NaN</td>\n",
              "      <td>NaN</td>\n",
              "      <td>NaN</td>\n",
              "      <td>NaN</td>\n",
              "      <td>NaN</td>\n",
              "      <td>NaN</td>\n",
              "    </tr>\n",
              "    <tr>\n",
              "      <th>wage employed</th>\n",
              "      <td>NaN</td>\n",
              "      <td>NaN</td>\n",
              "      <td>NaN</td>\n",
              "      <td>21.0</td>\n",
              "      <td>22.0</td>\n",
              "      <td>23.0</td>\n",
              "      <td>24.0</td>\n",
              "      <td>25.0</td>\n",
              "      <td>26.0</td>\n",
              "      <td>27.0</td>\n",
              "      <td>...</td>\n",
              "      <td>30.0</td>\n",
              "      <td>31.0</td>\n",
              "      <td>32.0</td>\n",
              "      <td>NaN</td>\n",
              "      <td>34.0</td>\n",
              "      <td>NaN</td>\n",
              "      <td>37.0</td>\n",
              "      <td>38.0</td>\n",
              "      <td>41.0</td>\n",
              "      <td>NaN</td>\n",
              "    </tr>\n",
              "  </tbody>\n",
              "</table>\n",
              "<p>7 rows × 22 columns</p>\n",
              "</div>"
            ],
            "text/plain": [
              "Age_survey                18    19    20    21    22    23    24    25    26  \\\n",
              "Status                                                                         \n",
              "employment programme     NaN   NaN   NaN   NaN  22.0   NaN   NaN   NaN   NaN   \n",
              "other                   18.0  19.0  20.0  21.0  22.0  23.0  24.0  25.0  26.0   \n",
              "self employed            NaN  19.0  20.0  21.0  22.0  23.0  24.0   NaN  26.0   \n",
              "studying                 NaN   NaN  20.0  21.0  22.0  23.0  24.0  25.0  26.0   \n",
              "unemployed               NaN   NaN  20.0   NaN  22.0  23.0   NaN  25.0  26.0   \n",
              "wage and self employed   NaN   NaN   NaN   NaN   NaN   NaN   NaN   NaN   NaN   \n",
              "wage employed            NaN   NaN   NaN  21.0  22.0  23.0  24.0  25.0  26.0   \n",
              "\n",
              "Age_survey                27  ...    30    31    32    33    34    35    37  \\\n",
              "Status                        ...                                             \n",
              "employment programme     NaN  ...   NaN   NaN   NaN   NaN   NaN   NaN   NaN   \n",
              "other                   27.0  ...   NaN  31.0   NaN  33.0   NaN  35.0  37.0   \n",
              "self employed           27.0  ...  30.0  31.0  32.0  33.0   NaN  35.0   NaN   \n",
              "studying                 NaN  ...   NaN   NaN   NaN  33.0   NaN  35.0   NaN   \n",
              "unemployed              27.0  ...  30.0   NaN  32.0  33.0  34.0  35.0  37.0   \n",
              "wage and self employed   NaN  ...  30.0   NaN   NaN   NaN   NaN   NaN   NaN   \n",
              "wage employed           27.0  ...  30.0  31.0  32.0   NaN  34.0   NaN  37.0   \n",
              "\n",
              "Age_survey                38    41    43  \n",
              "Status                                    \n",
              "employment programme     NaN   NaN   NaN  \n",
              "other                    NaN   NaN  43.0  \n",
              "self employed           38.0  41.0  43.0  \n",
              "studying                 NaN   NaN   NaN  \n",
              "unemployed               NaN   NaN   NaN  \n",
              "wage and self employed   NaN   NaN   NaN  \n",
              "wage employed           38.0  41.0   NaN  \n",
              "\n",
              "[7 rows x 22 columns]"
            ]
          },
          "execution_count": 225,
          "metadata": {},
          "output_type": "execute_result"
        }
      ],
      "source": [
        "df_train[(df_train['Matric'].isna())  & (df_train.Target == 1)].groupby([\"Status\",\"Age_survey\"])[\"Age_survey\"].mean().unstack()"
      ]
    },
    {
      "cell_type": "code",
      "execution_count": 142,
      "metadata": {
        "id": "BFVel-Bry1mN"
      },
      "outputs": [],
      "source": [
        "df_train_dummy = df_train_dummy.fillna(0)"
      ]
    },
    {
      "cell_type": "markdown",
      "metadata": {
        "id": "vHzxrldgwVlg"
      },
      "source": [
        "# Logistic Regression Modeling\n",
        "\n",
        "Logistic Regression is a statistical modeling technique used to predict binary outcomes or probabilities. It is commonly used when the dependent variable (target variable) is categorical and has two possible outcomes, such as yes/no, success/failure, or 0/1.\n",
        "\n",
        "To perform logistic regression with 10-fold cross-validation using scikit-learn, you can use the following code:"
      ]
    },
    {
      "cell_type": "code",
      "execution_count": 143,
      "metadata": {
        "id": "rkLFXJyixj8A"
      },
      "outputs": [],
      "source": [
        "# Import\n",
        "from sklearn.linear_model import LogisticRegression\n",
        "from sklearn.model_selection import cross_val_score\n",
        "from sklearn.model_selection import StratifiedKFold"
      ]
    },
    {
      "cell_type": "code",
      "execution_count": 158,
      "metadata": {
        "colab": {
          "base_uri": "https://localhost:8080/"
        },
        "id": "rX90WKzpx2t7",
        "outputId": "67505f77-b0aa-43bd-ee00-09cd758af32e"
      },
      "outputs": [
        {
          "name": "stderr",
          "output_type": "stream",
          "text": [
            "c:\\Users\\110342\\AppData\\Local\\Programs\\Python\\Python39\\lib\\site-packages\\sklearn\\linear_model\\_logistic.py:814: ConvergenceWarning: lbfgs failed to converge (status=1):\n",
            "STOP: TOTAL NO. of ITERATIONS REACHED LIMIT.\n",
            "\n",
            "Increase the number of iterations (max_iter) or scale the data as shown in:\n",
            "    https://scikit-learn.org/stable/modules/preprocessing.html\n",
            "Please also refer to the documentation for alternative solver options:\n",
            "    https://scikit-learn.org/stable/modules/linear_model.html#logistic-regression\n",
            "  n_iter_i = _check_optimize_result(\n",
            "c:\\Users\\110342\\AppData\\Local\\Programs\\Python\\Python39\\lib\\site-packages\\sklearn\\linear_model\\_logistic.py:814: ConvergenceWarning: lbfgs failed to converge (status=1):\n",
            "STOP: TOTAL NO. of ITERATIONS REACHED LIMIT.\n",
            "\n",
            "Increase the number of iterations (max_iter) or scale the data as shown in:\n",
            "    https://scikit-learn.org/stable/modules/preprocessing.html\n",
            "Please also refer to the documentation for alternative solver options:\n",
            "    https://scikit-learn.org/stable/modules/linear_model.html#logistic-regression\n",
            "  n_iter_i = _check_optimize_result(\n",
            "c:\\Users\\110342\\AppData\\Local\\Programs\\Python\\Python39\\lib\\site-packages\\sklearn\\linear_model\\_logistic.py:814: ConvergenceWarning: lbfgs failed to converge (status=1):\n",
            "STOP: TOTAL NO. of ITERATIONS REACHED LIMIT.\n",
            "\n",
            "Increase the number of iterations (max_iter) or scale the data as shown in:\n",
            "    https://scikit-learn.org/stable/modules/preprocessing.html\n",
            "Please also refer to the documentation for alternative solver options:\n",
            "    https://scikit-learn.org/stable/modules/linear_model.html#logistic-regression\n",
            "  n_iter_i = _check_optimize_result(\n"
          ]
        }
      ],
      "source": [
        "# Separate the features and target variables\n",
        "X = df_train_dummy.drop('Target', axis=1)\n",
        "y = df_train_dummy['Target']\n",
        "\n",
        "# Set up logistic regression model\n",
        "model = LogisticRegression()\n",
        "\n",
        "# Set up cross-validation strategy\n",
        "cv = StratifiedKFold(n_splits=3, shuffle=True, random_state=42)\n",
        "\n",
        "# Perform cross-validation and calculate ROC AUC\n",
        "scores = cross_val_score(model, X, y, scoring='roc_auc', cv=cv)\n"
      ]
    },
    {
      "cell_type": "code",
      "execution_count": 145,
      "metadata": {
        "colab": {
          "base_uri": "https://localhost:8080/"
        },
        "id": "eN5sysJoSFO1",
        "outputId": "31b492ed-5f74-4d6a-973c-b7b69809a234"
      },
      "outputs": [
        {
          "name": "stdout",
          "output_type": "stream",
          "text": [
            "Mean ROC AUC: 0.7735846589181199\n"
          ]
        }
      ],
      "source": [
        "\n",
        "# Print the mean ROC AUC score across folds\n",
        "print('Mean ROC AUC:', scores.mean())"
      ]
    },
    {
      "cell_type": "markdown",
      "metadata": {
        "id": "eF5yW2ZSzwMJ"
      },
      "source": [
        "# Predict on the test set"
      ]
    },
    {
      "cell_type": "code",
      "execution_count": 146,
      "metadata": {
        "colab": {
          "base_uri": "https://localhost:8080/",
          "height": 357
        },
        "id": "kzflxT96zqcf",
        "outputId": "eeb54a6e-d1b4-435d-84ac-540d8fd75ee3"
      },
      "outputs": [
        {
          "data": {
            "text/html": [
              "<div>\n",
              "<style scoped>\n",
              "    .dataframe tbody tr th:only-of-type {\n",
              "        vertical-align: middle;\n",
              "    }\n",
              "\n",
              "    .dataframe tbody tr th {\n",
              "        vertical-align: top;\n",
              "    }\n",
              "\n",
              "    .dataframe thead th {\n",
              "        text-align: right;\n",
              "    }\n",
              "</style>\n",
              "<table border=\"1\" class=\"dataframe\">\n",
              "  <thead>\n",
              "    <tr style=\"text-align: right;\">\n",
              "      <th></th>\n",
              "      <th>Person_id</th>\n",
              "      <th>Survey_date</th>\n",
              "      <th>Round</th>\n",
              "      <th>Status</th>\n",
              "      <th>Tenure</th>\n",
              "      <th>Geography</th>\n",
              "      <th>Province</th>\n",
              "      <th>Matric</th>\n",
              "      <th>Degree</th>\n",
              "      <th>Diploma</th>\n",
              "      <th>Schoolquintile</th>\n",
              "      <th>Math</th>\n",
              "      <th>Mathlit</th>\n",
              "      <th>Additional_lang</th>\n",
              "      <th>Home_lang</th>\n",
              "      <th>Science</th>\n",
              "      <th>Female</th>\n",
              "      <th>Sa_citizen</th>\n",
              "      <th>Birthyear</th>\n",
              "      <th>Birthmonth</th>\n",
              "    </tr>\n",
              "  </thead>\n",
              "  <tbody>\n",
              "    <tr>\n",
              "      <th>0</th>\n",
              "      <td>Id_r90136smvl</td>\n",
              "      <td>2022-08-03</td>\n",
              "      <td>3</td>\n",
              "      <td>other</td>\n",
              "      <td>NaN</td>\n",
              "      <td>Urban</td>\n",
              "      <td>KwaZulu-Natal</td>\n",
              "      <td>1.0</td>\n",
              "      <td>0.0</td>\n",
              "      <td>0.0</td>\n",
              "      <td>2.0</td>\n",
              "      <td>0 - 29 %</td>\n",
              "      <td>NaN</td>\n",
              "      <td>50 - 59 %</td>\n",
              "      <td>NaN</td>\n",
              "      <td>40 - 49 %</td>\n",
              "      <td>0</td>\n",
              "      <td>1</td>\n",
              "      <td>2002</td>\n",
              "      <td>12</td>\n",
              "    </tr>\n",
              "    <tr>\n",
              "      <th>1</th>\n",
              "      <td>Id_wawdqhmu6s</td>\n",
              "      <td>2023-03-16</td>\n",
              "      <td>4</td>\n",
              "      <td>unemployed</td>\n",
              "      <td>979.0</td>\n",
              "      <td>Urban</td>\n",
              "      <td>Western Cape</td>\n",
              "      <td>1.0</td>\n",
              "      <td>0.0</td>\n",
              "      <td>0.0</td>\n",
              "      <td>NaN</td>\n",
              "      <td>NaN</td>\n",
              "      <td>NaN</td>\n",
              "      <td>40 - 49 %</td>\n",
              "      <td>NaN</td>\n",
              "      <td>NaN</td>\n",
              "      <td>1</td>\n",
              "      <td>1</td>\n",
              "      <td>1989</td>\n",
              "      <td>12</td>\n",
              "    </tr>\n",
              "    <tr>\n",
              "      <th>2</th>\n",
              "      <td>Id_ap2czff2bu</td>\n",
              "      <td>2023-03-14</td>\n",
              "      <td>4</td>\n",
              "      <td>unemployed</td>\n",
              "      <td>339.0</td>\n",
              "      <td>Urban</td>\n",
              "      <td>KwaZulu-Natal</td>\n",
              "      <td>0.0</td>\n",
              "      <td>0.0</td>\n",
              "      <td>0.0</td>\n",
              "      <td>1.0</td>\n",
              "      <td>NaN</td>\n",
              "      <td>NaN</td>\n",
              "      <td>NaN</td>\n",
              "      <td>NaN</td>\n",
              "      <td>NaN</td>\n",
              "      <td>1</td>\n",
              "      <td>1</td>\n",
              "      <td>1989</td>\n",
              "      <td>12</td>\n",
              "    </tr>\n",
              "    <tr>\n",
              "      <th>3</th>\n",
              "      <td>Id_uhgink7iha</td>\n",
              "      <td>2023-02-16</td>\n",
              "      <td>4</td>\n",
              "      <td>studying</td>\n",
              "      <td>NaN</td>\n",
              "      <td>Urban</td>\n",
              "      <td>Gauteng</td>\n",
              "      <td>1.0</td>\n",
              "      <td>0.0</td>\n",
              "      <td>0.0</td>\n",
              "      <td>1.0</td>\n",
              "      <td>NaN</td>\n",
              "      <td>80 - 100 %</td>\n",
              "      <td>60 - 69 %</td>\n",
              "      <td>NaN</td>\n",
              "      <td>NaN</td>\n",
              "      <td>0</td>\n",
              "      <td>1</td>\n",
              "      <td>2002</td>\n",
              "      <td>11</td>\n",
              "    </tr>\n",
              "    <tr>\n",
              "      <th>4</th>\n",
              "      <td>Id_5j6bzk3k81</td>\n",
              "      <td>2023-03-23</td>\n",
              "      <td>4</td>\n",
              "      <td>unemployed</td>\n",
              "      <td>613.0</td>\n",
              "      <td>Urban</td>\n",
              "      <td>Gauteng</td>\n",
              "      <td>0.0</td>\n",
              "      <td>0.0</td>\n",
              "      <td>0.0</td>\n",
              "      <td>5.0</td>\n",
              "      <td>NaN</td>\n",
              "      <td>NaN</td>\n",
              "      <td>NaN</td>\n",
              "      <td>NaN</td>\n",
              "      <td>NaN</td>\n",
              "      <td>1</td>\n",
              "      <td>1</td>\n",
              "      <td>1993</td>\n",
              "      <td>10</td>\n",
              "    </tr>\n",
              "  </tbody>\n",
              "</table>\n",
              "</div>"
            ],
            "text/plain": [
              "       Person_id Survey_date  Round      Status  Tenure Geography  \\\n",
              "0  Id_r90136smvl  2022-08-03      3       other     NaN     Urban   \n",
              "1  Id_wawdqhmu6s  2023-03-16      4  unemployed   979.0     Urban   \n",
              "2  Id_ap2czff2bu  2023-03-14      4  unemployed   339.0     Urban   \n",
              "3  Id_uhgink7iha  2023-02-16      4    studying     NaN     Urban   \n",
              "4  Id_5j6bzk3k81  2023-03-23      4  unemployed   613.0     Urban   \n",
              "\n",
              "        Province  Matric  Degree  Diploma  Schoolquintile      Math  \\\n",
              "0  KwaZulu-Natal     1.0     0.0      0.0             2.0  0 - 29 %   \n",
              "1   Western Cape     1.0     0.0      0.0             NaN       NaN   \n",
              "2  KwaZulu-Natal     0.0     0.0      0.0             1.0       NaN   \n",
              "3        Gauteng     1.0     0.0      0.0             1.0       NaN   \n",
              "4        Gauteng     0.0     0.0      0.0             5.0       NaN   \n",
              "\n",
              "      Mathlit Additional_lang Home_lang    Science  Female  Sa_citizen  \\\n",
              "0         NaN       50 - 59 %       NaN  40 - 49 %       0           1   \n",
              "1         NaN       40 - 49 %       NaN        NaN       1           1   \n",
              "2         NaN             NaN       NaN        NaN       1           1   \n",
              "3  80 - 100 %       60 - 69 %       NaN        NaN       0           1   \n",
              "4         NaN             NaN       NaN        NaN       1           1   \n",
              "\n",
              "   Birthyear  Birthmonth  \n",
              "0       2002          12  \n",
              "1       1989          12  \n",
              "2       1989          12  \n",
              "3       2002          11  \n",
              "4       1993          10  "
            ]
          },
          "execution_count": 146,
          "metadata": {},
          "output_type": "execute_result"
        }
      ],
      "source": [
        "# Test set preview\n",
        "df_test.head()"
      ]
    },
    {
      "cell_type": "markdown",
      "metadata": {
        "id": "Mr6-nUQcz3xU"
      },
      "source": [
        "## Pre-processing\n",
        "\n",
        "We need to make sure the test data undergoes the same pre-processing steps as the training data did."
      ]
    },
    {
      "cell_type": "code",
      "execution_count": 147,
      "metadata": {
        "colab": {
          "base_uri": "https://localhost:8080/"
        },
        "id": "G5lRp9gbzyNn",
        "outputId": "514e24d7-7b05-4411-cf51-02aef70756f3"
      },
      "outputs": [
        {
          "data": {
            "text/plain": [
              "0    20\n",
              "1    34\n",
              "2    34\n",
              "3    21\n",
              "4    30\n",
              "Name: Age_survey, dtype: int64"
            ]
          },
          "execution_count": 147,
          "metadata": {},
          "output_type": "execute_result"
        }
      ],
      "source": [
        "# Create \"year_survey\" column then\n",
        "# Create \"age_survey\" column\n",
        "df_test['Year_survey'] = pd.to_datetime(df_test['Survey_date']).dt.year\n",
        "df_test['Age_survey'] = df_test['Year_survey'] - df_test['Birthyear']\n",
        "df_test['Age_survey'].head()"
      ]
    },
    {
      "cell_type": "code",
      "execution_count": 148,
      "metadata": {
        "colab": {
          "base_uri": "https://localhost:8080/"
        },
        "id": "urJ9zllz0J-I",
        "outputId": "93e7658e-5304-4d21-fa36-afc47fdcc574"
      },
      "outputs": [
        {
          "data": {
            "text/plain": [
              "0    1817\n",
              "1      90\n",
              "2      19\n",
              "3       8\n",
              "Name: Subjects_over_70, dtype: int64"
            ]
          },
          "execution_count": 148,
          "metadata": {},
          "output_type": "execute_result"
        }
      ],
      "source": [
        "df_test['Subjects_over_70'] = df_test.apply(lambda row: row.str.contains(\"80 - 100 %|70 - 79 %\").sum(), axis=1)\n",
        "df_test['Subjects_over_70'].value_counts()"
      ]
    },
    {
      "cell_type": "code",
      "execution_count": 149,
      "metadata": {
        "colab": {
          "base_uri": "https://localhost:8080/"
        },
        "id": "M8X6yzOw5hR2",
        "outputId": "9c37e007-d015-4aa5-ab76-e8d014f2ca45"
      },
      "outputs": [
        {
          "data": {
            "text/plain": [
              "Index(['Tenure', 'Matric', 'Degree', 'Diploma', 'Female', 'Sa_citizen',\n",
              "       'Birthyear', 'Birthmonth', 'Year_survey', 'Age_survey',\n",
              "       'Subjects_over_70', 'Round_20', 'Round_30', 'Round_40', 'Round_nan',\n",
              "       'Status_other', 'Status_self_employed', 'Status_studying',\n",
              "       'Status_unemployed', 'Status_wage_and_self_employed',\n",
              "       'Status_wage_employed', 'Status_nan', 'Geography_Suburb',\n",
              "       'Geography_Urban', 'Geography_nan', 'Province_Free_State',\n",
              "       'Province_Gauteng', 'Province_KwaZuluNatal', 'Province_Limpopo',\n",
              "       'Province_Mpumalanga', 'Province_North_West', 'Province_Northern_Cape',\n",
              "       'Province_Western_Cape', 'Province_nan', 'Schoolquintile_10',\n",
              "       'Schoolquintile_20', 'Schoolquintile_30', 'Schoolquintile_40',\n",
              "       'Schoolquintile_50', 'Schoolquintile_nan', 'Math_30_39', 'Math_40_49',\n",
              "       'Math_50_59', 'Math_60_69', 'Math_70_79', 'Math_80_100', 'Math_nan',\n",
              "       'Mathlit_30_39', 'Mathlit_40_49', 'Mathlit_50_59', 'Mathlit_60_69',\n",
              "       'Mathlit_70_79', 'Mathlit_80_100', 'Mathlit_nan',\n",
              "       'Additional_lang_40_49', 'Additional_lang_50_59',\n",
              "       'Additional_lang_60_69', 'Additional_lang_70_79',\n",
              "       'Additional_lang_80_100', 'Additional_lang_nan', 'Home_lang_40_49',\n",
              "       'Home_lang_50_59', 'Home_lang_60_69', 'Home_lang_70_79',\n",
              "       'Home_lang_80_100', 'Home_lang_nan', 'Science_30_39', 'Science_40_49',\n",
              "       'Science_50_59', 'Science_60_69', 'Science_70_79', 'Science_80_100',\n",
              "       'Science_nan'],\n",
              "      dtype='object')"
            ]
          },
          "execution_count": 149,
          "metadata": {},
          "output_type": "execute_result"
        }
      ],
      "source": [
        "# Remove variables we will not use\n",
        "df_test_dummy = df_test.drop([\"Person_id\", \"Survey_date\"], axis = 1)\n",
        "\n",
        "# Convert character variables to dummy variables\n",
        "df_test_dummy = pd.get_dummies(df_test_dummy, columns=selected_vars, drop_first=True, dummy_na=True)\n",
        "\n",
        "# Clean column names\n",
        "df_test_dummy.columns = df_test_dummy.columns.str.replace(' ', '_')  # Replace spaces with underscores\n",
        "df_test_dummy.columns = df_test_dummy.columns.str.replace('[^\\w\\s]', '', regex=True)  # Remove special characters\n",
        "df_test_dummy.columns = df_test_dummy.columns.str.replace('_+', '_', regex=True)  # Replace consecutive underscores with a single underscore\n",
        "df_test_dummy.columns = df_test_dummy.columns.str.rstrip('_')  # Remove trailing underscores at the end\n",
        "df_test_dummy.columns"
      ]
    },
    {
      "cell_type": "code",
      "execution_count": 150,
      "metadata": {
        "colab": {
          "base_uri": "https://localhost:8080/",
          "height": 299
        },
        "id": "REQexoZb56iE",
        "outputId": "27a8771b-e79c-44c1-ddda-c09e52106020"
      },
      "outputs": [
        {
          "data": {
            "text/html": [
              "<div>\n",
              "<style scoped>\n",
              "    .dataframe tbody tr th:only-of-type {\n",
              "        vertical-align: middle;\n",
              "    }\n",
              "\n",
              "    .dataframe tbody tr th {\n",
              "        vertical-align: top;\n",
              "    }\n",
              "\n",
              "    .dataframe thead th {\n",
              "        text-align: right;\n",
              "    }\n",
              "</style>\n",
              "<table border=\"1\" class=\"dataframe\">\n",
              "  <thead>\n",
              "    <tr style=\"text-align: right;\">\n",
              "      <th></th>\n",
              "      <th>Tenure</th>\n",
              "      <th>Matric</th>\n",
              "      <th>Degree</th>\n",
              "      <th>Diploma</th>\n",
              "      <th>Female</th>\n",
              "      <th>Sa_citizen</th>\n",
              "      <th>Birthyear</th>\n",
              "      <th>Birthmonth</th>\n",
              "      <th>Year_survey</th>\n",
              "      <th>Age_survey</th>\n",
              "      <th>...</th>\n",
              "      <th>Home_lang_70_79</th>\n",
              "      <th>Home_lang_80_100</th>\n",
              "      <th>Home_lang_nan</th>\n",
              "      <th>Science_30_39</th>\n",
              "      <th>Science_40_49</th>\n",
              "      <th>Science_50_59</th>\n",
              "      <th>Science_60_69</th>\n",
              "      <th>Science_70_79</th>\n",
              "      <th>Science_80_100</th>\n",
              "      <th>Science_nan</th>\n",
              "    </tr>\n",
              "  </thead>\n",
              "  <tbody>\n",
              "    <tr>\n",
              "      <th>0</th>\n",
              "      <td>0.0</td>\n",
              "      <td>1.0</td>\n",
              "      <td>0.0</td>\n",
              "      <td>0.0</td>\n",
              "      <td>0</td>\n",
              "      <td>1</td>\n",
              "      <td>2002</td>\n",
              "      <td>12</td>\n",
              "      <td>2022</td>\n",
              "      <td>20</td>\n",
              "      <td>...</td>\n",
              "      <td>0</td>\n",
              "      <td>0</td>\n",
              "      <td>1</td>\n",
              "      <td>0</td>\n",
              "      <td>1</td>\n",
              "      <td>0</td>\n",
              "      <td>0</td>\n",
              "      <td>0</td>\n",
              "      <td>0</td>\n",
              "      <td>0</td>\n",
              "    </tr>\n",
              "    <tr>\n",
              "      <th>1</th>\n",
              "      <td>979.0</td>\n",
              "      <td>1.0</td>\n",
              "      <td>0.0</td>\n",
              "      <td>0.0</td>\n",
              "      <td>1</td>\n",
              "      <td>1</td>\n",
              "      <td>1989</td>\n",
              "      <td>12</td>\n",
              "      <td>2023</td>\n",
              "      <td>34</td>\n",
              "      <td>...</td>\n",
              "      <td>0</td>\n",
              "      <td>0</td>\n",
              "      <td>1</td>\n",
              "      <td>0</td>\n",
              "      <td>0</td>\n",
              "      <td>0</td>\n",
              "      <td>0</td>\n",
              "      <td>0</td>\n",
              "      <td>0</td>\n",
              "      <td>1</td>\n",
              "    </tr>\n",
              "    <tr>\n",
              "      <th>2</th>\n",
              "      <td>339.0</td>\n",
              "      <td>0.0</td>\n",
              "      <td>0.0</td>\n",
              "      <td>0.0</td>\n",
              "      <td>1</td>\n",
              "      <td>1</td>\n",
              "      <td>1989</td>\n",
              "      <td>12</td>\n",
              "      <td>2023</td>\n",
              "      <td>34</td>\n",
              "      <td>...</td>\n",
              "      <td>0</td>\n",
              "      <td>0</td>\n",
              "      <td>1</td>\n",
              "      <td>0</td>\n",
              "      <td>0</td>\n",
              "      <td>0</td>\n",
              "      <td>0</td>\n",
              "      <td>0</td>\n",
              "      <td>0</td>\n",
              "      <td>1</td>\n",
              "    </tr>\n",
              "    <tr>\n",
              "      <th>3</th>\n",
              "      <td>0.0</td>\n",
              "      <td>1.0</td>\n",
              "      <td>0.0</td>\n",
              "      <td>0.0</td>\n",
              "      <td>0</td>\n",
              "      <td>1</td>\n",
              "      <td>2002</td>\n",
              "      <td>11</td>\n",
              "      <td>2023</td>\n",
              "      <td>21</td>\n",
              "      <td>...</td>\n",
              "      <td>0</td>\n",
              "      <td>0</td>\n",
              "      <td>1</td>\n",
              "      <td>0</td>\n",
              "      <td>0</td>\n",
              "      <td>0</td>\n",
              "      <td>0</td>\n",
              "      <td>0</td>\n",
              "      <td>0</td>\n",
              "      <td>1</td>\n",
              "    </tr>\n",
              "    <tr>\n",
              "      <th>4</th>\n",
              "      <td>613.0</td>\n",
              "      <td>0.0</td>\n",
              "      <td>0.0</td>\n",
              "      <td>0.0</td>\n",
              "      <td>1</td>\n",
              "      <td>1</td>\n",
              "      <td>1993</td>\n",
              "      <td>10</td>\n",
              "      <td>2023</td>\n",
              "      <td>30</td>\n",
              "      <td>...</td>\n",
              "      <td>0</td>\n",
              "      <td>0</td>\n",
              "      <td>1</td>\n",
              "      <td>0</td>\n",
              "      <td>0</td>\n",
              "      <td>0</td>\n",
              "      <td>0</td>\n",
              "      <td>0</td>\n",
              "      <td>0</td>\n",
              "      <td>1</td>\n",
              "    </tr>\n",
              "  </tbody>\n",
              "</table>\n",
              "<p>5 rows × 73 columns</p>\n",
              "</div>"
            ],
            "text/plain": [
              "   Tenure  Matric  Degree  Diploma  Female  Sa_citizen  Birthyear  Birthmonth  \\\n",
              "0     0.0     1.0     0.0      0.0       0           1       2002          12   \n",
              "1   979.0     1.0     0.0      0.0       1           1       1989          12   \n",
              "2   339.0     0.0     0.0      0.0       1           1       1989          12   \n",
              "3     0.0     1.0     0.0      0.0       0           1       2002          11   \n",
              "4   613.0     0.0     0.0      0.0       1           1       1993          10   \n",
              "\n",
              "   Year_survey  Age_survey  ...  Home_lang_70_79  Home_lang_80_100  \\\n",
              "0         2022          20  ...                0                 0   \n",
              "1         2023          34  ...                0                 0   \n",
              "2         2023          34  ...                0                 0   \n",
              "3         2023          21  ...                0                 0   \n",
              "4         2023          30  ...                0                 0   \n",
              "\n",
              "   Home_lang_nan  Science_30_39  Science_40_49  Science_50_59  Science_60_69  \\\n",
              "0              1              0              1              0              0   \n",
              "1              1              0              0              0              0   \n",
              "2              1              0              0              0              0   \n",
              "3              1              0              0              0              0   \n",
              "4              1              0              0              0              0   \n",
              "\n",
              "   Science_70_79  Science_80_100  Science_nan  \n",
              "0              0               0            0  \n",
              "1              0               0            1  \n",
              "2              0               0            1  \n",
              "3              0               0            1  \n",
              "4              0               0            1  \n",
              "\n",
              "[5 rows x 73 columns]"
            ]
          },
          "execution_count": 150,
          "metadata": {},
          "output_type": "execute_result"
        }
      ],
      "source": [
        "# Dealing with missing values\n",
        "df_test_dummy = df_test_dummy.fillna(0)\n",
        "df_test_dummy.head()"
      ]
    },
    {
      "cell_type": "markdown",
      "metadata": {
        "id": "320F1mRD6M3j"
      },
      "source": [
        "Now, let's predict!"
      ]
    },
    {
      "cell_type": "code",
      "execution_count": 151,
      "metadata": {
        "colab": {
          "base_uri": "https://localhost:8080/",
          "height": 213
        },
        "id": "v9pd8oMn6LwJ",
        "outputId": "af8d2c08-759c-420d-c65f-25ed3212eabb"
      },
      "outputs": [
        {
          "name": "stderr",
          "output_type": "stream",
          "text": [
            "c:\\Users\\110342\\AppData\\Local\\Programs\\Python\\Python39\\lib\\site-packages\\sklearn\\linear_model\\_logistic.py:814: ConvergenceWarning: lbfgs failed to converge (status=1):\n",
            "STOP: TOTAL NO. of ITERATIONS REACHED LIMIT.\n",
            "\n",
            "Increase the number of iterations (max_iter) or scale the data as shown in:\n",
            "    https://scikit-learn.org/stable/modules/preprocessing.html\n",
            "Please also refer to the documentation for alternative solver options:\n",
            "    https://scikit-learn.org/stable/modules/linear_model.html#logistic-regression\n",
            "  n_iter_i = _check_optimize_result(\n"
          ]
        },
        {
          "data": {
            "text/plain": [
              "LogisticRegression()"
            ]
          },
          "execution_count": 151,
          "metadata": {},
          "output_type": "execute_result"
        }
      ],
      "source": [
        "# Fit the model on training set\n",
        "model.fit(X, y)"
      ]
    },
    {
      "cell_type": "code",
      "execution_count": 152,
      "metadata": {
        "colab": {
          "base_uri": "https://localhost:8080/"
        },
        "id": "aEiPvvoF6HeK",
        "outputId": "30602ff1-0369-439a-9fd9-7acf23e9b79c"
      },
      "outputs": [
        {
          "name": "stdout",
          "output_type": "stream",
          "text": [
            "[1 0 0 0 0 0]\n"
          ]
        }
      ],
      "source": [
        "# Test on test set\n",
        "\n",
        "predictions = model.predict(df_test_dummy)\n",
        "print(predictions[:6])"
      ]
    },
    {
      "cell_type": "markdown",
      "metadata": {
        "id": "sVLCi9VO74Co"
      },
      "source": [
        "Now let's put our predictions in the format needed for submission.For every row in the dataset, submission files should contain 2 columns: ID and Target.\n",
        "Your submission file should look like this."
      ]
    },
    {
      "cell_type": "code",
      "execution_count": 153,
      "metadata": {
        "colab": {
          "base_uri": "https://localhost:8080/"
        },
        "id": "jb5Kvnu27BFF",
        "outputId": "09690ecc-90a1-4c92-ce09-51d75406d8ef"
      },
      "outputs": [
        {
          "name": "stdout",
          "output_type": "stream",
          "text": [
            "              ID  Target\n",
            "0  Id_r90136smvl       1\n",
            "1  Id_wawdqhmu6s       0\n",
            "2  Id_ap2czff2bu       0\n",
            "3  Id_uhgink7iha       0\n",
            "4  Id_5j6bzk3k81       0\n"
          ]
        }
      ],
      "source": [
        "# Create a DataFrame df_submission with two columns \"ID\" and \"Target\"\n",
        "df_submission = pd.DataFrame({\"ID\": df_test[\"Person_id\"], \"Target\": predictions.astype(int)})\n",
        "print(df_submission.head())"
      ]
    },
    {
      "cell_type": "markdown",
      "metadata": {
        "id": "qcMomGWi9K6V"
      },
      "source": [
        "Save your submission as a CSV file."
      ]
    },
    {
      "cell_type": "code",
      "execution_count": 154,
      "metadata": {
        "id": "O3phHXb08w74"
      },
      "outputs": [],
      "source": [
        "df_submission.to_csv(\"submission.csv\", index=False)"
      ]
    },
    {
      "cell_type": "markdown",
      "metadata": {
        "id": "x_q9bSfU9VpQ"
      },
      "source": [
        "Et voilà! You are now ready to submit."
      ]
    },
    {
      "cell_type": "markdown",
      "metadata": {
        "id": "lVTg7zRA9Y2A"
      },
      "source": [
        "Predictive Insights is a leader in behavioural science and artificial intelligence to improve business efficiency and profitability. Through a combination of data science, machine learning and behavioural insights, we help customers to accurately predict sales, staffing and stock levels. Our solution improves sales forecasting on average by 50 percent. We operate in Africa as well as Europe, Middle East and India in the restaurant, food processing, retail and financial service sectors.\n",
        "We are part of Alphawave, a specialised technology investment group supporting businesses seeking to do things that are complex to replicate.\n"
      ]
    }
  ],
  "metadata": {
    "colab": {
      "provenance": []
    },
    "kernelspec": {
      "display_name": "Python 3",
      "name": "python3"
    },
    "language_info": {
      "codemirror_mode": {
        "name": "ipython",
        "version": 3
      },
      "file_extension": ".py",
      "mimetype": "text/x-python",
      "name": "python",
      "nbconvert_exporter": "python",
      "pygments_lexer": "ipython3",
      "version": "3.9.2"
    }
  },
  "nbformat": 4,
  "nbformat_minor": 0
}
